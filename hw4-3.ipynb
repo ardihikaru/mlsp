{
 "cells": [
  {
   "cell_type": "code",
   "execution_count": 1,
   "metadata": {
    "collapsed": true,
    "pycharm": {
     "is_executing": false,
     "name": "#%% #1. Load dependency libraries\n"
    }
   },
   "outputs": [],
   "source": [
    "import numpy as np\n",
    "from matplotlib import pyplot as plt\n",
    "import time"
   ]
  },
  {
   "cell_type": "code",
   "execution_count": 2,
   "outputs": [],
   "source": [
    "from hw4.libs.lle import LLE\n",
    "from hw4.libs.dataset import Dataset"
   ],
   "metadata": {
    "collapsed": false,
    "pycharm": {
     "name": "#%% #2. Import custom libraries\n",
     "is_executing": false
    }
   }
  },
  {
   "cell_type": "code",
   "execution_count": 3,
   "outputs": [
    {
     "name": "stdout",
     "text": [
      "time used to Load and filter digit 5s dataset： 0.19 s\n"
     ],
     "output_type": "stream"
    }
   ],
   "source": [
    "timestamp = time.time()\n",
    "dataset = Dataset()\n",
    "fives = dataset.get_5s()\n",
    "print(\"time used to Load and filter digit 5s dataset：\", round((time.time() - timestamp), 2), 's')"
   ],
   "metadata": {
    "collapsed": false,
    "pycharm": {
     "name": "#%% #3. Collect, extract, and select only digit 5s from the datasets\n",
     "is_executing": false
    }
   }
  },
  {
   "cell_type": "code",
   "execution_count": 4,
   "outputs": [
    {
     "name": "stdout",
     "text": [
      "(72, 2)\ntime used： 0.07 s\n"
     ],
     "output_type": "stream"
    }
   ],
   "source": [
    "\"\"\"\n",
    "Steps of the LLE algorithm:\n",
    "1. Create neighborhood graph\n",
    "2. For every point calculate local weight matrix W\n",
    "3. For every point use W to create the point from its neighbors\n",
    "\"\"\"\n",
    "timestamp = time.time()\n",
    "fives = fives.T # Transform data for Dimensional Reduction Process\n",
    "n_comp = 2 # number of components\n",
    "n_neighbours = 6 # number of neighbours\n",
    "lle = LLE(n_neighbours, n_comp)\n",
    "lle_img = lle.fit_transform(fives)\n",
    "print(\"time used：\", round((time.time() - timestamp), 2), 's')"
   ],
   "metadata": {
    "collapsed": false,
    "pycharm": {
     "name": "#%% #4. Perform LLE Algorithm\n",
     "is_executing": false
    }
   }
  },
  {
   "cell_type": "code",
   "execution_count": 5,
   "outputs": [
    {
     "name": "stdout",
     "text": [
      "Dimension BEFORE and AFTER dimension reduction\n(72, 784)\n(72, 2)\n"
     ],
     "output_type": "stream"
    }
   ],
   "source": [
    "print(\"Dimension BEFORE and AFTER dimension reduction\")\n",
    "print(fives.shape)\n",
    "print(lle_img.shape)"
   ],
   "metadata": {
    "collapsed": false,
    "pycharm": {
     "name": "#%% #5. Verify the result's reduction process\n",
     "is_executing": false
    }
   }
  },
  {
   "cell_type": "code",
   "execution_count": 6,
   "outputs": [
    {
     "data": {
      "text/plain": "<Figure size 432x288 with 1 Axes>",
      "image/png": "[encoded data removed]"
     },
     "metadata": {
      "needs_background": "light"
     },
     "output_type": "display_data"
    }
   ],
   "source": [
    "from hw4.libs.projection import Projection\n",
    "my_plt = Projection()\n",
    "my_plt.proj_show(lle_img, fives)\n",
    "\n"
   ],
   "metadata": {
    "collapsed": false,
    "pycharm": {
     "name": "#%% #6. Project the result into 2D Scatter Plot\n",
     "is_executing": false
    }
   }
  }
 ],
 "metadata": {
  "kernelspec": {
   "display_name": "Python 3",
   "language": "python",
   "name": "python3"
  },
  "language_info": {
   "codemirror_mode": {
    "name": "ipython",
    "version": 2
   },
   "file_extension": ".py",
   "mimetype": "text/x-python",
   "name": "python",
   "nbconvert_exporter": "python",
   "pygments_lexer": "ipython2",
   "version": "2.7.6"
  },
  "pycharm": {
   "stem_cell": {
    "cell_type": "raw",
    "source": [],
    "metadata": {
     "collapsed": false
    }
   }
  }
 },
 "nbformat": 4,
 "nbformat_minor": 0
}