{
 "cells": [
  {
   "cell_type": "code",
   "execution_count": 2,
   "metadata": {
    "collapsed": true,
    "pycharm": {
     "is_executing": false
    }
   },
   "outputs": [],
   "source": [
    "import numpy as np\n",
    "from numpy import linalg as LA\n",
    "import os, os.path\n",
    "from matplotlib.image import imread\n",
    "from PIL import Image\n",
    "import glob\n",
    "from matplotlib import pyplot as plt\n",
    "import pandas as pd\n",
    "from sklearn.decomposition import PCA\n",
    "from sklearn.preprocessing import normalize\n",
    "from pca_numpy import  *\n",
    "from sklearn.preprocessing import normalize"
   ]
  },
  {
   "cell_type": "code",
   "execution_count": 5,
   "outputs": [
    {
     "name": "stdout",
     "text": [
      "   0   1   2   3   4   5   6   7   8   9   ...  18  19  20  21  22  23  24  \\\n0   0   0   0   0   0   0   0   0   0   0  ...   6   4   0   0   1   0   0   \n1   0   0   0   0   0   0   0   0   0   0  ...   0   0   2   1   3   0   0   \n2   0   0   0   0   0   0   0   0   0   0  ...   6   0   7   0   0   0   0   \n3   0   0   0   0   0   0   0   0   0   0  ...  10   0   1   0   0   1   0   \n4   0   0   0   0   0   0   0   0   0   0  ...   0   0   0   7   0   5   0   \n\n   25  26  27  \n0   0   0   0  \n1   0   0   0  \n2   0   0   0  \n3   0   0   0  \n4   0   0   0  \n\n[5 rows x 28 columns]\n"
     ],
     "output_type": "stream"
    }
   ],
   "source": [
    "# for filename in glob.glob(\"four_dataset/*.jpg\"):\n",
    "#     img = imread(filename)\n",
    "#     # print(type(img))\n",
    "# \n",
    "#     data = pd.DataFrame(img)\n",
    "#     # print(type(data))\n",
    "#     # print(data.head())\n",
    "#     # data.head()\n",
    "#     reduced_data_numpy = PCA_numpy(wine_data.values\n",
    "# \n",
    "#     break"
   ],
   "metadata": {
    "collapsed": false,
    "pycharm": {
     "name": "#%%\n",
     "is_executing": false
    }
   }
  },
  {
   "cell_type": "code",
   "execution_count": 24,
   "outputs": [
    {
     "data": {
      "text/plain": "    0   1   2   3   4   5   6    7    8    9   ...   18   19   20  21  22  23  \\\n0    0   0   0   0   0   0   0    0    0   10  ...    0    6    1   0   6   0   \n1    0   0   0   0   0   0   0    0    0    0  ...    4    0    0   9   0   3   \n2    0   0   0   0   0   0   0    0    3    0  ...    0    2    0   0   0   7   \n3    0   0   0   0   0   0   0    0    0   12  ...    0    0   12   0   0  10   \n4    0   0   0   0   0   0   0    0    0   10  ...    0    1    0   0  15   0   \n5    0   0   0   0   0   0   0    0    0    0  ...    0   76   31   0   0   0   \n6    0   0   0   0   0   0   0    0   11    0  ...    4  141  161  13   0   8   \n7    0   0   0   0   0   0   0    0    0    3  ...    0   99  220   8   2   0   \n8    3   0   2   0   1   0   0    0    6   57  ...    0  119  241  24  21   0   \n9    0   0   3   0   3   5   0    0   39  237  ...    0  197  255  25   0   0   \n10   0   2   4   0   1   8   0   14  184  245  ...   29  255  250  21   0   5   \n11   0   3   3   0   0   0   0   75  233  206  ...  127  255  176   5   6   1   \n12   0   1   0   4   0   0  15  163  255  111  ...  220  249   71   0   7   0   \n13   0   0   0   8   0   0  28  228  253    0  ...  253  222    2   0   0   4   \n14   0   0   0   5   0   0  22  234  166   17  ...  254  161    0   6   0   9   \n15   0   3   0   0   0   1   7  212  206   11  ...  255   98    8   0   4   0   \n16   0   0   5   0   4   0  14  159  249  204  ...  255  103    9   0   0   7   \n17   8   0   1   0   4   0   0   60  182  236  ...  236   15    0   5   0   2   \n18   4   0   5   0   4  12   0    0    0   36  ...  255    1    0   6   1   0   \n19   0   0  12   0   0  13   3    0   14    0  ...  255   36    0   0  11   0   \n20   0   0  10   0   0   0   3    2    0    0  ...  229   17    0   0   6   0   \n21   3   0   0   1   0   0   0    0    0   10  ...  255    0    0   0   6   0   \n22   0   0   0   1   6   3   3    0    0    2  ...  241    3    0   7   8   0   \n23   0   8   1   0   0   0   0    0    6    0  ...  111    0    4   0   0   0   \n24   0   0   0   0   0   0   0    0    0    0  ...    0    0    7   1   0   2   \n25   0   0   0   0   0   0   0    0    0    0  ...    0    1    1   0   0  13   \n26   0   0   0   0   0   0   0    0    0    0  ...   11    9    3   0   0   0   \n27   0   0   0   0   0   0   0    0    0    0  ...    0    0    0   5   4   0   \n\n    24  25  26  27  \n0    0   0   0   0  \n1    0   0   0   0  \n2    0   0   0   0  \n3    0   0   0   0  \n4    0   0   0   0  \n5    0   0   0   0  \n6    0   0   0   0  \n7    0   0   0   0  \n8    0   0   0   0  \n9    0   0   0   0  \n10   0   0   0   0  \n11   0   0   0   0  \n12   0   0   0   0  \n13   0   0   0   0  \n14   0   0   0   0  \n15   0   0   0   0  \n16   0   0   0   0  \n17   0   0   0   0  \n18   0   0   0   0  \n19   0   0   0   0  \n20   0   0   0   0  \n21   0   0   0   0  \n22   0   0   0   0  \n23   0   0   0   0  \n24   0   0   0   0  \n25   0   0   0   0  \n26   0   0   0   0  \n27   0   0   0   0  \n\n[28 rows x 28 columns]",
      "text/html": "<div>\n<style scoped>\n    .dataframe tbody tr th:only-of-type {\n        vertical-align: middle;\n    }\n\n    .dataframe tbody tr th {\n        vertical-align: top;\n    }\n\n    .dataframe thead th {\n        text-align: right;\n    }\n</style>\n<table border=\"1\" class=\"dataframe\">\n  <thead>\n    <tr style=\"text-align: right;\">\n      <th></th>\n      <th>0</th>\n      <th>1</th>\n      <th>2</th>\n      <th>3</th>\n      <th>4</th>\n      <th>5</th>\n      <th>6</th>\n      <th>7</th>\n      <th>8</th>\n      <th>9</th>\n      <th>...</th>\n      <th>18</th>\n      <th>19</th>\n      <th>20</th>\n      <th>21</th>\n      <th>22</th>\n      <th>23</th>\n      <th>24</th>\n      <th>25</th>\n      <th>26</th>\n      <th>27</th>\n    </tr>\n  </thead>\n  <tbody>\n    <tr>\n      <th>0</th>\n      <td>0</td>\n      <td>0</td>\n      <td>0</td>\n      <td>0</td>\n      <td>0</td>\n      <td>0</td>\n      <td>0</td>\n      <td>0</td>\n      <td>0</td>\n      <td>10</td>\n      <td>...</td>\n      <td>0</td>\n      <td>6</td>\n      <td>1</td>\n      <td>0</td>\n      <td>6</td>\n      <td>0</td>\n      <td>0</td>\n      <td>0</td>\n      <td>0</td>\n      <td>0</td>\n    </tr>\n    <tr>\n      <th>1</th>\n      <td>0</td>\n      <td>0</td>\n      <td>0</td>\n      <td>0</td>\n      <td>0</td>\n      <td>0</td>\n      <td>0</td>\n      <td>0</td>\n      <td>0</td>\n      <td>0</td>\n      <td>...</td>\n      <td>4</td>\n      <td>0</td>\n      <td>0</td>\n      <td>9</td>\n      <td>0</td>\n      <td>3</td>\n      <td>0</td>\n      <td>0</td>\n      <td>0</td>\n      <td>0</td>\n    </tr>\n    <tr>\n      <th>2</th>\n      <td>0</td>\n      <td>0</td>\n      <td>0</td>\n      <td>0</td>\n      <td>0</td>\n      <td>0</td>\n      <td>0</td>\n      <td>0</td>\n      <td>3</td>\n      <td>0</td>\n      <td>...</td>\n      <td>0</td>\n      <td>2</td>\n      <td>0</td>\n      <td>0</td>\n      <td>0</td>\n      <td>7</td>\n      <td>0</td>\n      <td>0</td>\n      <td>0</td>\n      <td>0</td>\n    </tr>\n    <tr>\n      <th>3</th>\n      <td>0</td>\n      <td>0</td>\n      <td>0</td>\n      <td>0</td>\n      <td>0</td>\n      <td>0</td>\n      <td>0</td>\n      <td>0</td>\n      <td>0</td>\n      <td>12</td>\n      <td>...</td>\n      <td>0</td>\n      <td>0</td>\n      <td>12</td>\n      <td>0</td>\n      <td>0</td>\n      <td>10</td>\n      <td>0</td>\n      <td>0</td>\n      <td>0</td>\n      <td>0</td>\n    </tr>\n    <tr>\n      <th>4</th>\n      <td>0</td>\n      <td>0</td>\n      <td>0</td>\n      <td>0</td>\n      <td>0</td>\n      <td>0</td>\n      <td>0</td>\n      <td>0</td>\n      <td>0</td>\n      <td>10</td>\n      <td>...</td>\n      <td>0</td>\n      <td>1</td>\n      <td>0</td>\n      <td>0</td>\n      <td>15</td>\n      <td>0</td>\n      <td>0</td>\n      <td>0</td>\n      <td>0</td>\n      <td>0</td>\n    </tr>\n    <tr>\n      <th>5</th>\n      <td>0</td>\n      <td>0</td>\n      <td>0</td>\n      <td>0</td>\n      <td>0</td>\n      <td>0</td>\n      <td>0</td>\n      <td>0</td>\n      <td>0</td>\n      <td>0</td>\n      <td>...</td>\n      <td>0</td>\n      <td>76</td>\n      <td>31</td>\n      <td>0</td>\n      <td>0</td>\n      <td>0</td>\n      <td>0</td>\n      <td>0</td>\n      <td>0</td>\n      <td>0</td>\n    </tr>\n    <tr>\n      <th>6</th>\n      <td>0</td>\n      <td>0</td>\n      <td>0</td>\n      <td>0</td>\n      <td>0</td>\n      <td>0</td>\n      <td>0</td>\n      <td>0</td>\n      <td>11</td>\n      <td>0</td>\n      <td>...</td>\n      <td>4</td>\n      <td>141</td>\n      <td>161</td>\n      <td>13</td>\n      <td>0</td>\n      <td>8</td>\n      <td>0</td>\n      <td>0</td>\n      <td>0</td>\n      <td>0</td>\n    </tr>\n    <tr>\n      <th>7</th>\n      <td>0</td>\n      <td>0</td>\n      <td>0</td>\n      <td>0</td>\n      <td>0</td>\n      <td>0</td>\n      <td>0</td>\n      <td>0</td>\n      <td>0</td>\n      <td>3</td>\n      <td>...</td>\n      <td>0</td>\n      <td>99</td>\n      <td>220</td>\n      <td>8</td>\n      <td>2</td>\n      <td>0</td>\n      <td>0</td>\n      <td>0</td>\n      <td>0</td>\n      <td>0</td>\n    </tr>\n    <tr>\n      <th>8</th>\n      <td>3</td>\n      <td>0</td>\n      <td>2</td>\n      <td>0</td>\n      <td>1</td>\n      <td>0</td>\n      <td>0</td>\n      <td>0</td>\n      <td>6</td>\n      <td>57</td>\n      <td>...</td>\n      <td>0</td>\n      <td>119</td>\n      <td>241</td>\n      <td>24</td>\n      <td>21</td>\n      <td>0</td>\n      <td>0</td>\n      <td>0</td>\n      <td>0</td>\n      <td>0</td>\n    </tr>\n    <tr>\n      <th>9</th>\n      <td>0</td>\n      <td>0</td>\n      <td>3</td>\n      <td>0</td>\n      <td>3</td>\n      <td>5</td>\n      <td>0</td>\n      <td>0</td>\n      <td>39</td>\n      <td>237</td>\n      <td>...</td>\n      <td>0</td>\n      <td>197</td>\n      <td>255</td>\n      <td>25</td>\n      <td>0</td>\n      <td>0</td>\n      <td>0</td>\n      <td>0</td>\n      <td>0</td>\n      <td>0</td>\n    </tr>\n    <tr>\n      <th>10</th>\n      <td>0</td>\n      <td>2</td>\n      <td>4</td>\n      <td>0</td>\n      <td>1</td>\n      <td>8</td>\n      <td>0</td>\n      <td>14</td>\n      <td>184</td>\n      <td>245</td>\n      <td>...</td>\n      <td>29</td>\n      <td>255</td>\n      <td>250</td>\n      <td>21</td>\n      <td>0</td>\n      <td>5</td>\n      <td>0</td>\n      <td>0</td>\n      <td>0</td>\n      <td>0</td>\n    </tr>\n    <tr>\n      <th>11</th>\n      <td>0</td>\n      <td>3</td>\n      <td>3</td>\n      <td>0</td>\n      <td>0</td>\n      <td>0</td>\n      <td>0</td>\n      <td>75</td>\n      <td>233</td>\n      <td>206</td>\n      <td>...</td>\n      <td>127</td>\n      <td>255</td>\n      <td>176</td>\n      <td>5</td>\n      <td>6</td>\n      <td>1</td>\n      <td>0</td>\n      <td>0</td>\n      <td>0</td>\n      <td>0</td>\n    </tr>\n    <tr>\n      <th>12</th>\n      <td>0</td>\n      <td>1</td>\n      <td>0</td>\n      <td>4</td>\n      <td>0</td>\n      <td>0</td>\n      <td>15</td>\n      <td>163</td>\n      <td>255</td>\n      <td>111</td>\n      <td>...</td>\n      <td>220</td>\n      <td>249</td>\n      <td>71</td>\n      <td>0</td>\n      <td>7</td>\n      <td>0</td>\n      <td>0</td>\n      <td>0</td>\n      <td>0</td>\n      <td>0</td>\n    </tr>\n    <tr>\n      <th>13</th>\n      <td>0</td>\n      <td>0</td>\n      <td>0</td>\n      <td>8</td>\n      <td>0</td>\n      <td>0</td>\n      <td>28</td>\n      <td>228</td>\n      <td>253</td>\n      <td>0</td>\n      <td>...</td>\n      <td>253</td>\n      <td>222</td>\n      <td>2</td>\n      <td>0</td>\n      <td>0</td>\n      <td>4</td>\n      <td>0</td>\n      <td>0</td>\n      <td>0</td>\n      <td>0</td>\n    </tr>\n    <tr>\n      <th>14</th>\n      <td>0</td>\n      <td>0</td>\n      <td>0</td>\n      <td>5</td>\n      <td>0</td>\n      <td>0</td>\n      <td>22</td>\n      <td>234</td>\n      <td>166</td>\n      <td>17</td>\n      <td>...</td>\n      <td>254</td>\n      <td>161</td>\n      <td>0</td>\n      <td>6</td>\n      <td>0</td>\n      <td>9</td>\n      <td>0</td>\n      <td>0</td>\n      <td>0</td>\n      <td>0</td>\n    </tr>\n    <tr>\n      <th>15</th>\n      <td>0</td>\n      <td>3</td>\n      <td>0</td>\n      <td>0</td>\n      <td>0</td>\n      <td>1</td>\n      <td>7</td>\n      <td>212</td>\n      <td>206</td>\n      <td>11</td>\n      <td>...</td>\n      <td>255</td>\n      <td>98</td>\n      <td>8</td>\n      <td>0</td>\n      <td>4</td>\n      <td>0</td>\n      <td>0</td>\n      <td>0</td>\n      <td>0</td>\n      <td>0</td>\n    </tr>\n    <tr>\n      <th>16</th>\n      <td>0</td>\n      <td>0</td>\n      <td>5</td>\n      <td>0</td>\n      <td>4</td>\n      <td>0</td>\n      <td>14</td>\n      <td>159</td>\n      <td>249</td>\n      <td>204</td>\n      <td>...</td>\n      <td>255</td>\n      <td>103</td>\n      <td>9</td>\n      <td>0</td>\n      <td>0</td>\n      <td>7</td>\n      <td>0</td>\n      <td>0</td>\n      <td>0</td>\n      <td>0</td>\n    </tr>\n    <tr>\n      <th>17</th>\n      <td>8</td>\n      <td>0</td>\n      <td>1</td>\n      <td>0</td>\n      <td>4</td>\n      <td>0</td>\n      <td>0</td>\n      <td>60</td>\n      <td>182</td>\n      <td>236</td>\n      <td>...</td>\n      <td>236</td>\n      <td>15</td>\n      <td>0</td>\n      <td>5</td>\n      <td>0</td>\n      <td>2</td>\n      <td>0</td>\n      <td>0</td>\n      <td>0</td>\n      <td>0</td>\n    </tr>\n    <tr>\n      <th>18</th>\n      <td>4</td>\n      <td>0</td>\n      <td>5</td>\n      <td>0</td>\n      <td>4</td>\n      <td>12</td>\n      <td>0</td>\n      <td>0</td>\n      <td>0</td>\n      <td>36</td>\n      <td>...</td>\n      <td>255</td>\n      <td>1</td>\n      <td>0</td>\n      <td>6</td>\n      <td>1</td>\n      <td>0</td>\n      <td>0</td>\n      <td>0</td>\n      <td>0</td>\n      <td>0</td>\n    </tr>\n    <tr>\n      <th>19</th>\n      <td>0</td>\n      <td>0</td>\n      <td>12</td>\n      <td>0</td>\n      <td>0</td>\n      <td>13</td>\n      <td>3</td>\n      <td>0</td>\n      <td>14</td>\n      <td>0</td>\n      <td>...</td>\n      <td>255</td>\n      <td>36</td>\n      <td>0</td>\n      <td>0</td>\n      <td>11</td>\n      <td>0</td>\n      <td>0</td>\n      <td>0</td>\n      <td>0</td>\n      <td>0</td>\n    </tr>\n    <tr>\n      <th>20</th>\n      <td>0</td>\n      <td>0</td>\n      <td>10</td>\n      <td>0</td>\n      <td>0</td>\n      <td>0</td>\n      <td>3</td>\n      <td>2</td>\n      <td>0</td>\n      <td>0</td>\n      <td>...</td>\n      <td>229</td>\n      <td>17</td>\n      <td>0</td>\n      <td>0</td>\n      <td>6</td>\n      <td>0</td>\n      <td>0</td>\n      <td>0</td>\n      <td>0</td>\n      <td>0</td>\n    </tr>\n    <tr>\n      <th>21</th>\n      <td>3</td>\n      <td>0</td>\n      <td>0</td>\n      <td>1</td>\n      <td>0</td>\n      <td>0</td>\n      <td>0</td>\n      <td>0</td>\n      <td>0</td>\n      <td>10</td>\n      <td>...</td>\n      <td>255</td>\n      <td>0</td>\n      <td>0</td>\n      <td>0</td>\n      <td>6</td>\n      <td>0</td>\n      <td>0</td>\n      <td>0</td>\n      <td>0</td>\n      <td>0</td>\n    </tr>\n    <tr>\n      <th>22</th>\n      <td>0</td>\n      <td>0</td>\n      <td>0</td>\n      <td>1</td>\n      <td>6</td>\n      <td>3</td>\n      <td>3</td>\n      <td>0</td>\n      <td>0</td>\n      <td>2</td>\n      <td>...</td>\n      <td>241</td>\n      <td>3</td>\n      <td>0</td>\n      <td>7</td>\n      <td>8</td>\n      <td>0</td>\n      <td>0</td>\n      <td>0</td>\n      <td>0</td>\n      <td>0</td>\n    </tr>\n    <tr>\n      <th>23</th>\n      <td>0</td>\n      <td>8</td>\n      <td>1</td>\n      <td>0</td>\n      <td>0</td>\n      <td>0</td>\n      <td>0</td>\n      <td>0</td>\n      <td>6</td>\n      <td>0</td>\n      <td>...</td>\n      <td>111</td>\n      <td>0</td>\n      <td>4</td>\n      <td>0</td>\n      <td>0</td>\n      <td>0</td>\n      <td>0</td>\n      <td>0</td>\n      <td>0</td>\n      <td>0</td>\n    </tr>\n    <tr>\n      <th>24</th>\n      <td>0</td>\n      <td>0</td>\n      <td>0</td>\n      <td>0</td>\n      <td>0</td>\n      <td>0</td>\n      <td>0</td>\n      <td>0</td>\n      <td>0</td>\n      <td>0</td>\n      <td>...</td>\n      <td>0</td>\n      <td>0</td>\n      <td>7</td>\n      <td>1</td>\n      <td>0</td>\n      <td>2</td>\n      <td>0</td>\n      <td>0</td>\n      <td>0</td>\n      <td>0</td>\n    </tr>\n    <tr>\n      <th>25</th>\n      <td>0</td>\n      <td>0</td>\n      <td>0</td>\n      <td>0</td>\n      <td>0</td>\n      <td>0</td>\n      <td>0</td>\n      <td>0</td>\n      <td>0</td>\n      <td>0</td>\n      <td>...</td>\n      <td>0</td>\n      <td>1</td>\n      <td>1</td>\n      <td>0</td>\n      <td>0</td>\n      <td>13</td>\n      <td>0</td>\n      <td>0</td>\n      <td>0</td>\n      <td>0</td>\n    </tr>\n    <tr>\n      <th>26</th>\n      <td>0</td>\n      <td>0</td>\n      <td>0</td>\n      <td>0</td>\n      <td>0</td>\n      <td>0</td>\n      <td>0</td>\n      <td>0</td>\n      <td>0</td>\n      <td>0</td>\n      <td>...</td>\n      <td>11</td>\n      <td>9</td>\n      <td>3</td>\n      <td>0</td>\n      <td>0</td>\n      <td>0</td>\n      <td>0</td>\n      <td>0</td>\n      <td>0</td>\n      <td>0</td>\n    </tr>\n    <tr>\n      <th>27</th>\n      <td>0</td>\n      <td>0</td>\n      <td>0</td>\n      <td>0</td>\n      <td>0</td>\n      <td>0</td>\n      <td>0</td>\n      <td>0</td>\n      <td>0</td>\n      <td>0</td>\n      <td>...</td>\n      <td>0</td>\n      <td>0</td>\n      <td>0</td>\n      <td>5</td>\n      <td>4</td>\n      <td>0</td>\n      <td>0</td>\n      <td>0</td>\n      <td>0</td>\n      <td>0</td>\n    </tr>\n  </tbody>\n</table>\n<p>28 rows × 28 columns</p>\n</div>"
     },
     "metadata": {},
     "output_type": "execute_result",
     "execution_count": 24
    }
   ],
   "source": [
    "img = imread('four_dataset/four0.jpg')\n",
    "# print(type(img))\n",
    "data = pd.DataFrame(img)\n",
    "data"
   ],
   "metadata": {
    "collapsed": false,
    "pycharm": {
     "name": "#%%\n",
     "is_executing": false
    }
   }
  },
  {
   "cell_type": "code",
   "execution_count": 31,
   "outputs": [
    {
     "data": {
      "text/plain": "array([[  0,   0,   0,   0,   0,   0,   0,   0,   0,  10,   0,   0,   6,\n          0,   7,   0,   5,   0,   0,   6,   1,   0,   6,   0,   0,   0,\n          0,   0],\n       [  0,   0,   0,   0,   0,   0,   0,   0,   0,   0,   1,  22,   0,\n          0,   5,   0,   0,  18,   4,   0,   0,   9,   0,   3,   0,   0,\n          0,   0],\n       [  0,   0,   0,   0,   0,   0,   0,   0,   3,   0,   2,   9,   0,\n          0,   5,   0,   0,   3,   0,   2,   0,   0,   0,   7,   0,   0,\n          0,   0],\n       [  0,   0,   0,   0,   0,   0,   0,   0,   0,  12,   0,   0,  12,\n          8,   6,   0,   8,   0,   0,   0,  12,   0,   0,  10,   0,   0,\n          0,   0],\n       [  0,   0,   0,   0,   0,   0,   0,   0,   0,  10,   0,  15,   0,\n          0,   0,   0,   0,   1,   0,   1,   0,   0,  15,   0,   0,   0,\n          0,   0],\n       [  0,   0,   0,   0,   0,   0,   0,   0,   0,   0,  62, 210,  29,\n         13,   6,   0,   0,   6,   0,  76,  31,   0,   0,   0,   0,   0,\n          0,   0],\n       [  0,   0,   0,   0,   0,   0,   0,   0,  11,   0, 121, 228,   0,\n          0,   4,   9,   0,  11,   4, 141, 161,  13,   0,   8,   0,   0,\n          0,   0],\n       [  0,   0,   0,   0,   0,   0,   0,   0,   0,   3, 201, 225,  13,\n          4,   0,   0,   0,   4,   0,  99, 220,   8,   2,   0,   0,   0,\n          0,   0],\n       [  3,   0,   2,   0,   1,   0,   0,   0,   6,  57, 255, 133,   6,\n          0,   8,   0,   1,   3,   0, 119, 241,  24,  21,   0,   0,   0,\n          0,   0],\n       [  0,   0,   3,   0,   3,   5,   0,   0,  39, 237, 212,  11,   0,\n         11,   1,   4,   4,   0,   0, 197, 255,  25,   0,   0,   0,   0,\n          0,   0],\n       [  0,   2,   4,   0,   1,   8,   0,  14, 184, 245,  56,   0,   2,\n          7,   3,   0,   0,   0,  29, 255, 250,  21,   0,   5,   0,   0,\n          0,   0],\n       [  0,   3,   3,   0,   0,   0,   0,  75, 233, 206,   0,   0,   7,\n          0,   0,   3,   0,  10, 127, 255, 176,   5,   6,   1,   0,   0,\n          0,   0],\n       [  0,   1,   0,   4,   0,   0,  15, 163, 255, 111,   0,   2,   0,\n          3,   0,   2,   4,  54, 220, 249,  71,   0,   7,   0,   0,   0,\n          0,   0],\n       [  0,   0,   0,   8,   0,   0,  28, 228, 253,   0,   0,  14,   0,\n          4,   0,   0,   0, 112, 253, 222,   2,   0,   0,   4,   0,   0,\n          0,   0],\n       [  0,   0,   0,   5,   0,   0,  22, 234, 166,  17,   8,   0,   7,\n          1,   0,  16,   2, 185, 254, 161,   0,   6,   0,   9,   0,   0,\n          0,   0],\n       [  0,   3,   0,   0,   0,   1,   7, 212, 206,  11,   0,  11,   0,\n          0,  17,   0,  19, 251, 255,  98,   8,   0,   4,   0,   0,   0,\n          0,   0],\n       [  0,   0,   5,   0,   4,   0,  14, 159, 249, 204,  84,  77,  97,\n         79, 130, 165, 191, 255, 255, 103,   9,   0,   0,   7,   0,   0,\n          0,   0],\n       [  8,   0,   1,   0,   4,   0,   0,  60, 182, 236, 255, 255, 255,\n        244, 226, 229, 250, 243, 236,  15,   0,   5,   0,   2,   0,   0,\n          0,   0],\n       [  4,   0,   5,   0,   4,  12,   0,   0,   0,  36,  94,  74,  75,\n         76,  11,   0, 182, 246, 255,   1,   0,   6,   1,   0,   0,   0,\n          0,   0],\n       [  0,   0,  12,   0,   0,  13,   3,   0,  14,   0,  12,   0,   4,\n         23,   0,   1, 103, 255, 255,  36,   0,   0,  11,   0,   0,   0,\n          0,   0],\n       [  0,   0,  10,   0,   0,   0,   3,   2,   0,   0,   0,   0,   0,\n          0,   0,  16, 129, 255, 229,  17,   0,   0,   6,   0,   0,   0,\n          0,   0],\n       [  3,   0,   0,   1,   0,   0,   0,   0,   0,  10,   6,  12,   4,\n          0,   0,   0, 128, 253, 255,   0,   0,   0,   6,   0,   0,   0,\n          0,   0],\n       [  0,   0,   0,   1,   6,   3,   3,   0,   0,   2,   0,   0,   0,\n          0,   9,   0, 139, 244, 241,   3,   0,   7,   8,   0,   0,   0,\n          0,   0],\n       [  0,   8,   1,   0,   0,   0,   0,   0,   6,   0,   0,   6,   1,\n          0,   0,   2, 232, 237, 111,   0,   4,   0,   0,   0,   0,   0,\n          0,   0],\n       [  0,   0,   0,   0,   0,   0,   0,   0,   0,   0,   0,   0,   0,\n          0,   0,   0, 176,  78,   0,   0,   7,   1,   0,   2,   0,   0,\n          0,   0],\n       [  0,   0,   0,   0,   0,   0,   0,   0,   0,   0,   0,   0,   0,\n          0,   0,   0,   8,   0,   0,   1,   1,   0,   0,  13,   0,   0,\n          0,   0],\n       [  0,   0,   0,   0,   0,   0,   0,   0,   0,   0,   0,   0,   0,\n          0,   0,   0,   0,   1,  11,   9,   3,   0,   0,   0,   0,   0,\n          0,   0],\n       [  0,   0,   0,   0,   0,   0,   0,   0,   0,   0,   0,   0,   0,\n          0,   0,   0,   8,   7,   0,   0,   0,   5,   4,   0,   0,   0,\n          0,   0]], dtype=uint8)"
     },
     "metadata": {},
     "output_type": "execute_result",
     "execution_count": 31
    }
   ],
   "source": [
    "# data_norm = normalize(data)\n",
    "# data_norm = pd.DataFrame(data_norm)\n",
    "# data_norm\n",
    "data.values"
   ],
   "metadata": {
    "collapsed": false,
    "pycharm": {
     "name": "#%%\n",
     "is_executing": false
    }
   }
  },
  {
   "cell_type": "code",
   "execution_count": 32,
   "outputs": [
    {
     "traceback": [
      "\u001b[0;31m---------------------------------------------------------------------------\u001b[0m",
      "\u001b[0;31mValueError\u001b[0m                                Traceback (most recent call last)",
      "\u001b[0;32m<ipython-input-32-6e13cbf905be>\u001b[0m in \u001b[0;36m<module>\u001b[0;34m\u001b[0m\n\u001b[0;32m----> 1\u001b[0;31m \u001b[0mreduced_data_numpy\u001b[0m \u001b[0;34m=\u001b[0m \u001b[0mPCA_numpy\u001b[0m\u001b[0;34m(\u001b[0m\u001b[0mdata\u001b[0m\u001b[0;34m.\u001b[0m\u001b[0mvalues\u001b[0m\u001b[0;34m)\u001b[0m\u001b[0;34m\u001b[0m\u001b[0;34m\u001b[0m\u001b[0m\n\u001b[0m\u001b[1;32m      2\u001b[0m \u001b[0;31m# reduced_data_numpy.all()\u001b[0m\u001b[0;34m\u001b[0m\u001b[0;34m\u001b[0m\u001b[0;34m\u001b[0m\u001b[0m\n\u001b[1;32m      3\u001b[0m \u001b[0;34m\u001b[0m\u001b[0m\n",
      "\u001b[0;32m~/devel/nctu/mlsp/hw3/dataset-dimensionality-reduction-python/PCA/pca_numpy.py\u001b[0m in \u001b[0;36mPCA_numpy\u001b[0;34m(data, n_components)\u001b[0m\n\u001b[1;32m     19\u001b[0m          \u001b[0meig_pairs\u001b[0m\u001b[0;34m.\u001b[0m\u001b[0mappend\u001b[0m\u001b[0;34m(\u001b[0m\u001b[0;34m[\u001b[0m\u001b[0mnp\u001b[0m\u001b[0;34m.\u001b[0m\u001b[0mabs\u001b[0m\u001b[0;34m(\u001b[0m\u001b[0meig_values\u001b[0m\u001b[0;34m[\u001b[0m\u001b[0mi\u001b[0m\u001b[0;34m]\u001b[0m\u001b[0;34m)\u001b[0m\u001b[0;34m,\u001b[0m \u001b[0meig_vectors\u001b[0m\u001b[0;34m[\u001b[0m\u001b[0;34m:\u001b[0m\u001b[0;34m,\u001b[0m\u001b[0mi\u001b[0m\u001b[0;34m]\u001b[0m\u001b[0;34m]\u001b[0m\u001b[0;34m)\u001b[0m\u001b[0;34m\u001b[0m\u001b[0;34m\u001b[0m\u001b[0m\n\u001b[1;32m     20\u001b[0m \u001b[0;34m\u001b[0m\u001b[0m\n\u001b[0;32m---> 21\u001b[0;31m     \u001b[0meig_pairs\u001b[0m\u001b[0;34m.\u001b[0m\u001b[0msort\u001b[0m\u001b[0;34m(\u001b[0m\u001b[0;34m)\u001b[0m\u001b[0;34m\u001b[0m\u001b[0;34m\u001b[0m\u001b[0m\n\u001b[0m\u001b[1;32m     22\u001b[0m     \u001b[0meig_pairs\u001b[0m\u001b[0;34m.\u001b[0m\u001b[0mreverse\u001b[0m\u001b[0;34m(\u001b[0m\u001b[0;34m)\u001b[0m\u001b[0;34m\u001b[0m\u001b[0;34m\u001b[0m\u001b[0m\n\u001b[1;32m     23\u001b[0m \u001b[0;34m\u001b[0m\u001b[0m\n",
      "\u001b[0;31mValueError\u001b[0m: The truth value of an array with more than one element is ambiguous. Use a.any() or a.all()"
     ],
     "ename": "ValueError",
     "evalue": "The truth value of an array with more than one element is ambiguous. Use a.any() or a.all()",
     "output_type": "error"
    }
   ],
   "source": [
    "reduced_data_numpy = PCA_numpy(data.values)\n",
    "# reduced_data_numpy.all()"
   ],
   "metadata": {
    "collapsed": false,
    "pycharm": {
     "name": "#%%\n",
     "is_executing": false
    }
   }
  },
  {
   "cell_type": "code",
   "execution_count": 13,
   "outputs": [
    {
     "traceback": [
      "\u001b[0;31m---------------------------------------------------------------------------\u001b[0m",
      "\u001b[0;31mNameError\u001b[0m                                 Traceback (most recent call last)",
      "\u001b[0;32m<ipython-input-13-33a2fa1a5b32>\u001b[0m in \u001b[0;36m<module>\u001b[0;34m\u001b[0m\n\u001b[0;32m----> 1\u001b[0;31m \u001b[0mplt\u001b[0m\u001b[0;34m.\u001b[0m\u001b[0mscatter\u001b[0m\u001b[0;34m(\u001b[0m\u001b[0mreduced_data_numpy\u001b[0m\u001b[0;34m[\u001b[0m\u001b[0;34m:\u001b[0m\u001b[0;34m,\u001b[0m \u001b[0;36m0\u001b[0m\u001b[0;34m]\u001b[0m\u001b[0;34m,\u001b[0m \u001b[0mreduced_data_numpy\u001b[0m\u001b[0;34m[\u001b[0m\u001b[0;34m:\u001b[0m\u001b[0;34m,\u001b[0m \u001b[0;36m1\u001b[0m\u001b[0;34m]\u001b[0m\u001b[0;34m,\u001b[0m \u001b[0mlabel\u001b[0m\u001b[0;34m=\u001b[0m\u001b[0;34m'Wine points reduced'\u001b[0m\u001b[0;34m)\u001b[0m\u001b[0;34m\u001b[0m\u001b[0;34m\u001b[0m\u001b[0m\n\u001b[0m\u001b[1;32m      2\u001b[0m \u001b[0mplt\u001b[0m\u001b[0;34m.\u001b[0m\u001b[0mtitle\u001b[0m\u001b[0;34m(\u001b[0m\u001b[0;34m\"PCA numpy\"\u001b[0m\u001b[0;34m)\u001b[0m\u001b[0;34m\u001b[0m\u001b[0;34m\u001b[0m\u001b[0m\n\u001b[1;32m      3\u001b[0m \u001b[0mplt\u001b[0m\u001b[0;34m.\u001b[0m\u001b[0mlegend\u001b[0m\u001b[0;34m(\u001b[0m\u001b[0;34m)\u001b[0m\u001b[0;34m\u001b[0m\u001b[0;34m\u001b[0m\u001b[0m\n\u001b[1;32m      4\u001b[0m \u001b[0mplt\u001b[0m\u001b[0;34m.\u001b[0m\u001b[0mshow\u001b[0m\u001b[0;34m(\u001b[0m\u001b[0;34m)\u001b[0m\u001b[0;34m\u001b[0m\u001b[0;34m\u001b[0m\u001b[0m\n",
      "\u001b[0;31mNameError\u001b[0m: name 'reduced_data_numpy' is not defined"
     ],
     "ename": "NameError",
     "evalue": "name 'reduced_data_numpy' is not defined",
     "output_type": "error"
    }
   ],
   "source": [
    "plt.scatter(reduced_data_numpy[:, 0], reduced_data_numpy[:, 1], label='Wine points reduced')\n",
    "plt.title(\"PCA numpy\")\n",
    "plt.legend()\n",
    "plt.show()"
   ],
   "metadata": {
    "collapsed": false,
    "pycharm": {
     "name": "#%%\n",
     "is_executing": false
    }
   }
  }
 ],
 "metadata": {
  "kernelspec": {
   "display_name": "Python 3",
   "language": "python",
   "name": "python3"
  },
  "language_info": {
   "codemirror_mode": {
    "name": "ipython",
    "version": 2
   },
   "file_extension": ".py",
   "mimetype": "text/x-python",
   "name": "python",
   "nbconvert_exporter": "python",
   "pygments_lexer": "ipython2",
   "version": "2.7.6"
  },
  "pycharm": {
   "stem_cell": {
    "cell_type": "raw",
    "source": [],
    "metadata": {
     "collapsed": false
    }
   }
  }
 },
 "nbformat": 4,
 "nbformat_minor": 0
}