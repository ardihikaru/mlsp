{
 "cells": [
  {
   "cell_type": "code",
   "execution_count": 5,
   "metadata": {
    "collapsed": true,
    "pycharm": {
     "is_executing": false
    }
   },
   "outputs": [
    {
     "name": "stdout",
     "text": [
      "[0.07117199 0.08154406 0.31285003 0.05812235 0.03534177 0.11919095\n 0.04739584 0.34281827 0.27903079 0.44440129 0.65928968 0.00827585\n 0.30652632 0.05374424 0.34339197 0.08037594 0.09046822 0.08916112\n 0.01067243 0.20536731]\n[0.12162781]\n"
     ],
     "output_type": "stream"
    },
    {
     "data": {
      "text/plain": "<Figure size 432x288 with 1 Axes>",
      "image/png": "[encoded data removed]"
     },
     "metadata": {
      "needs_background": "light"
     },
     "output_type": "display_data"
    }
   ],
   "source": [
    "# Source: https://stackoverflow.com/questions/47319277/generate-random-numbers-from-exponential-distribution-and-model-using-python\n",
    "# import numpy as np\n",
    "# import matplotlib.pyplot as plt\n",
    "# from scipy.optimize import curve_fit\n",
    "# \n",
    "# data = np.random.exponential(0.2, size=20)\n",
    "# print(data)\n",
    "# \n",
    "# hist,edges = np.histogram(data,bins=\"auto\",density=True )\n",
    "# \n",
    "# x = edges[:-1]+np.diff(edges)/2.\n",
    "# plt.scatter(x,hist)\n",
    "# \n",
    "# func = lambda x,beta: 1./beta*np.exp(-x/beta)\n",
    "# \n",
    "# popt, pcov = curve_fit(f=func, xdata=x, ydata=hist) \n",
    "# \n",
    "# print(popt)\n",
    "# \n",
    "# xx = np.linspace(0, x.max(), 101)\n",
    "# plt.plot(xx, func(xx,*popt), ls=\"--\", color=\"k\", \n",
    "#          label=\"fit, $beta = ${}\".format(popt))\n",
    "# plt.legend()\n",
    "# plt.show()"
   ]
  },
  {
   "cell_type": "code",
   "execution_count": 21,
   "outputs": [],
   "source": [
    "import matplotlib.pyplot as plt\n",
    "from math import exp\n",
    "from scipy.stats import norm\n",
    "import numpy as np"
   ],
   "metadata": {
    "collapsed": false,
    "pycharm": {
     "name": "#%% \n",
     "is_executing": false
    }
   }
  },
  {
   "cell_type": "code",
   "execution_count": 39,
   "outputs": [],
   "source": [
    "def mle(n, est_x):\n",
    "    return n/est_x\n",
    "\n",
    "def map(n, lam):\n",
    "    return (n/(n-1)) * lam"
   ],
   "metadata": {
    "collapsed": false,
    "pycharm": {
     "name": "#%%\n",
     "is_executing": false
    }
   }
  },
  {
   "cell_type": "code",
   "execution_count": 44,
   "outputs": [],
   "source": [
    "def exp_data(x, size=20, lam=0.2):\n",
    "    # lam = 0.2\n",
    "    # size = 20\n",
    "    # x = range(0, size)\n",
    "    # x = range(1, size)\n",
    "    # lam = mle(size, np.sum(x))\n",
    "    # print(\" *** lam = \", lam)\n",
    "    Y = [lam*exp(-lam*_) for _ in x]\n",
    "    # print(\"\\nSum of arr : \", np.sum(x)) \n",
    "    # error = norm.rvs(0, scale=0.05, size=9)\n",
    "    error = norm.rvs(0, scale=0.05, size=size)\n",
    "    simulated_data = [max(0, y+e) for (y, e) in zip(Y[:size], error)]\n",
    "\n",
    "    plt.plot(x, Y, 'b-')\n",
    "    plt.plot(x[:size], simulated_data, 'r.')\n",
    "    plt.show()\n",
    "\n",
    "    print (x[:size])\n",
    "    print (simulated_data)"
   ],
   "metadata": {
    "collapsed": false,
    "pycharm": {
     "name": "#%%\n",
     "is_executing": false
    }
   }
  },
  {
   "cell_type": "code",
   "execution_count": 60,
   "outputs": [
    {
     "data": {
      "text/plain": "<Figure size 432x288 with 1 Axes>",
      "image/png": "[encoded data removed]"
     },
     "metadata": {
      "needs_background": "light"
     },
     "output_type": "display_data"
    },
    {
     "name": "stdout",
     "text": [
      "range(1, 100)\n[0.17060471352145123, 0.12386382540518077, 0.05151922931673696, 0.07121810851176265, 0.16941364907570772, 0.10778878773758314, 0.22377637377482504, 0.10519672871685119, 0, 0.054214645486240186, 0, 0.050644332370797074, 0.042884021128784186, 0.010576157400069801, 0, 0, 0, 0, 0.039502660579320864, 0, 0.043352694458418786, 0, 0.008160041269101831, 0.0009546689984445043, 0.0029413215288256766, 0.09333162420422557, 0, 0.03512891490117218, 0.019293492450802915, 0, 4.9515387847511244e-05, 0.070550113473236, 0.05840130910979744, 0.012656256547590025, 0, 0.02306138970028325, 0, 0, 0, 0, 0.007426132406823637, 0, 0.03462270607114476, 0, 0.18351875049218772, 0, 0, 0.049658498410970385, 0.021916338705361253, 0.048590269635981294, 0, 0, 0.026159148083213173, 0.06974534536667241, 0.033135230561175774, 0.06665436758088356, 0.012052347953381582, 0, 0.031222908483206184, 0.06531536774465867, 0.08829803498235224, 0, 0, 0.04366407454343531, 0, 0, 0, 0, 0.023294361538336084, 0.1089318727009488, 0, 0, 0, 0.11013209045176517, 0.020656386294196333, 0, 0.01631600930031195, 0.008289309648257076, 0, 0.034838358751304845, 0.07360510284326814, 0.004362397986206811, 0.06600990902288273, 0, 0, 0, 0, 0.01920101808522075, 0, 0.061408169777435205, 0.031174103174003636, 0.006892071538364137, 0, 0.04674902122253273, 0.016618399826009655, 0, 0, 0, 0.01180201244631653]\n"
     ],
     "output_type": "stream"
    }
   ],
   "source": [
    "size = 100\n",
    "lam = 0.2\n",
    "x = range(1, size)\n",
    "exp_data(x, size, lam)"
   ],
   "metadata": {
    "collapsed": false,
    "pycharm": {
     "name": "#%%\n",
     "is_executing": false
    }
   }
  },
  {
   "cell_type": "code",
   "execution_count": 59,
   "outputs": [
    {
     "name": "stdout",
     "text": [
      " *** REAL(lamda) = 0.20 \n *** MLE(lamda) = 0.00 \n *** MAP(lamda) = 0.20 \n"
     ],
     "output_type": "stream"
    }
   ],
   "source": [
    "print(\" *** REAL(lamda) = %.2f \" % lam)\n",
    "mle_lam = mle(size, np.sum(x))\n",
    "print(\" *** MLE(lamda) = %.2f \" % mle_lam)\n",
    "map_lam = map(size, lam)\n",
    "print(\" *** MAP(lamda) = %.2f \" % map_lam)"
   ],
   "metadata": {
    "collapsed": false,
    "pycharm": {
     "name": "#%% MLE Estimation\n",
     "is_executing": false
    }
   }
  }
 ],
 "metadata": {
  "kernelspec": {
   "display_name": "Python 3",
   "language": "python",
   "name": "python3"
  },
  "language_info": {
   "codemirror_mode": {
    "name": "ipython",
    "version": 2
   },
   "file_extension": ".py",
   "mimetype": "text/x-python",
   "name": "python",
   "nbconvert_exporter": "python",
   "pygments_lexer": "ipython2",
   "version": "2.7.6"
  },
  "pycharm": {
   "stem_cell": {
    "cell_type": "raw",
    "source": [],
    "metadata": {
     "collapsed": false
    }
   }
  }
 },
 "nbformat": 4,
 "nbformat_minor": 0
}