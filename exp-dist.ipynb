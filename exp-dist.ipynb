{
 "cells": [
  {
   "cell_type": "code",
   "execution_count": 1,
   "outputs": [],
   "source": [
    "import matplotlib.pyplot as plt\n",
    "from math import exp\n",
    "from scipy.stats import norm\n",
    "import numpy as np"
   ],
   "metadata": {
    "collapsed": false,
    "pycharm": {
     "name": "#%% \n",
     "is_executing": false
    }
   }
  },
  {
   "cell_type": "code",
   "execution_count": 2,
   "outputs": [],
   "source": [
    "def mle(n, est_x):\n",
    "    return n/est_x\n",
    "\n",
    "def map(n, lam):\n",
    "    return (n/(n-1)) * lam"
   ],
   "metadata": {
    "collapsed": false,
    "pycharm": {
     "name": "#%%\n",
     "is_executing": false
    }
   }
  },
  {
   "cell_type": "code",
   "execution_count": 6,
   "outputs": [],
   "source": [
    "def exp_data(x, size=20, lam=0.2):\n",
    "    Y = [lam*exp(-lam*_) for _ in x]\n",
    "    error = norm.rvs(0, scale=0.05, size=size)\n",
    "    print(\"*** error = \", error)\n",
    "    simulated_data = [max(0, y+e) for (y, e) in zip(Y[:size], error)]\n",
    "    print(Y)\n",
    "    print(simulated_data)\n",
    "    print(len(simulated_data))\n",
    "\n",
    "    plt.plot(x, Y, 'b-')\n",
    "    # plt.plot(x[:size], Y, 'r.')\n",
    "    plt.plot(x[:size], simulated_data, 'r.')\n",
    "    plt.show()\n",
    "    "
   ],
   "metadata": {
    "collapsed": false,
    "pycharm": {
     "name": "#%%\n",
     "is_executing": false
    }
   }
  },
  {
   "cell_type": "code",
   "execution_count": 7,
   "outputs": [
    {
     "name": "stdout",
     "text": [
      "*** error =  [ 0.00783669  0.00492519 -0.00701286  0.01945436  0.09700605  0.03055857\n -0.00351741  0.03185309  0.02721342  0.03291227 -0.05383674 -0.1388451\n -0.00036956  0.05624456  0.04549652  0.04913052  0.00466091 -0.01827092\n -0.03009473 -0.05786912]\n[0.1637461506155964, 0.13406400920712788, 0.10976232721880529, 0.08986579282344431, 0.07357588823428847, 0.060238842382440407, 0.04931939278832129, 0.04037930359893108, 0.033059777644317306, 0.027067056647322542, 0.022160631672466777, 0.018143590657882496, 0.014854715642866776, 0.012162012525043592, 0.00995741367357279, 0.008152440795673243, 0.006674653992065214, 0.0054647444894585125, 0.004474154371233118]\n[0.1715828435516284, 0.13898920055986183, 0.10274946773128377, 0.10932015735556662, 0.17058194104821128, 0.09079741310975004, 0.04580198533465468, 0.0722323923579278, 0.060273197595967866, 0.05997932876989536, 0, 0, 0.014485151591668799, 0.06840657070160727, 0.055453932163641986, 0.057282964278022, 0.011335563865256177, 0, 0]\n19\n"
     ],
     "output_type": "stream"
    },
    {
     "data": {
      "text/plain": "<Figure size 432x288 with 1 Axes>",
      "image/png": "[encoded data removed]"
     },
     "metadata": {
      "needs_background": "light"
     },
     "output_type": "display_data"
    }
   ],
   "source": [
    "size = 20\n",
    "lam = 0.2\n",
    "x = range(1, size)\n",
    "exp_data(x, size, lam)"
   ],
   "metadata": {
    "collapsed": false,
    "pycharm": {
     "name": "#%%\n",
     "is_executing": false
    }
   }
  },
  {
   "cell_type": "code",
   "execution_count": 6,
   "outputs": [
    {
     "name": "stdout",
     "text": [
      " *** REAL(lamda) = 0.20 \n *** MLE(lamda) = 0.11 \n *** MAP(lamda) = 0.21 \n"
     ],
     "output_type": "stream"
    }
   ],
   "source": [
    "print(\" *** REAL(lamda) = %.2f \" % lam)\n",
    "mle_lam = mle(size, np.sum(x))\n",
    "print(\" *** MLE(lamda) = %.2f \" % mle_lam)\n",
    "map_lam = map(size, lam)\n",
    "print(\" *** MAP(lamda) = %.2f \" % map_lam)"
   ],
   "metadata": {
    "collapsed": false,
    "pycharm": {
     "name": "#%% MLE Estimation\n",
     "is_executing": false
    }
   }
  }
 ],
 "metadata": {
  "kernelspec": {
   "display_name": "Python 3",
   "language": "python",
   "name": "python3"
  },
  "language_info": {
   "codemirror_mode": {
    "name": "ipython",
    "version": 2
   },
   "file_extension": ".py",
   "mimetype": "text/x-python",
   "name": "python",
   "nbconvert_exporter": "python",
   "pygments_lexer": "ipython2",
   "version": "2.7.6"
  },
  "pycharm": {
   "stem_cell": {
    "cell_type": "raw",
    "source": [
     "\n"
    ],
    "metadata": {
     "collapsed": false
    }
   }
  }
 },
 "nbformat": 4,
 "nbformat_minor": 0
}