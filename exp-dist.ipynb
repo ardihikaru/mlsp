{
 "cells": [
  {
   "cell_type": "code",
   "execution_count": 1,
   "outputs": [],
   "source": [
    "import matplotlib.pyplot as plt\n",
    "from math import exp\n",
    "from scipy.stats import norm\n",
    "import numpy as np"
   ],
   "metadata": {
    "collapsed": false,
    "pycharm": {
     "name": "#%% \n",
     "is_executing": false
    }
   }
  },
  {
   "cell_type": "code",
   "execution_count": 2,
   "outputs": [],
   "source": [
    "def mle(n, est_x):\n",
    "    return n/est_x\n",
    "\n",
    "def map(n, lam):\n",
    "    return (n/(n-1)) * lam"
   ],
   "metadata": {
    "collapsed": false,
    "pycharm": {
     "name": "#%%\n",
     "is_executing": false
    }
   }
  },
  {
   "cell_type": "code",
   "execution_count": 16,
   "outputs": [],
   "source": [
    "def exp_data(x, size=20, lam=0.2):\n",
    "    Y = [lam*exp(-lam*_) for _ in x]\n",
    "    error = norm.rvs(0, scale=0.05, size=size)\n",
    "    print(\"*** error = \", error)\n",
    "    simulated_data = [max(0, y+e) for (y, e) in zip(Y[:size], error)]\n",
    "    print(Y)\n",
    "    print(simulated_data)\n",
    "    print(len(simulated_data))\n",
    "\n",
    "    plt.plot(x, Y, 'b-')\n",
    "    plt.plot(x[:size], Y, 'r.')\n",
    "    # plt.plot(x[:size], simulated_data, 'r.')\n",
    "    plt.show()\n"
   ],
   "metadata": {
    "collapsed": false,
    "pycharm": {
     "name": "#%%\n",
     "is_executing": false
    }
   }
  },
  {
   "cell_type": "code",
   "execution_count": 17,
   "outputs": [
    {
     "name": "stdout",
     "text": [
      "*** error =  [ 0.10526711 -0.04640823  0.01763862 -0.00307123  0.01229812  0.01481423\n -0.00818354  0.01757328  0.03995915  0.00906076  0.0263465   0.03475594\n  0.01238461  0.0436175  -0.10117934  0.06918576 -0.04220659 -0.03564566\n  0.0241598  -0.00620134]\n[0.1637461506155964, 0.13406400920712788, 0.10976232721880529, 0.08986579282344431, 0.07357588823428847, 0.060238842382440407, 0.04931939278832129, 0.04037930359893108, 0.033059777644317306, 0.027067056647322542, 0.022160631672466777, 0.018143590657882496, 0.014854715642866776, 0.012162012525043592, 0.00995741367357279, 0.008152440795673243, 0.006674653992065214, 0.0054647444894585125, 0.004474154371233118]\n[0.26901326382273133, 0.08765578332457641, 0.12740095171339585, 0.08679456755868953, 0.0858740125552766, 0.07505307008441793, 0.041135849703683, 0.05795258738743551, 0.07301892614109781, 0.036127817349432344, 0.04850713194636731, 0.052899526046601295, 0.027239324603198844, 0.05577951150214989, 0, 0.07733820344553753, 0, 0, 0.028633958044234156]\n19\n"
     ],
     "output_type": "stream"
    },
    {
     "data": {
      "text/plain": "<Figure size 432x288 with 1 Axes>",
      "image/png": "[encoded data removed]"
     },
     "metadata": {
      "needs_background": "light"
     },
     "output_type": "display_data"
    }
   ],
   "source": [
    "size = 20\n",
    "lam = 0.2\n",
    "x = range(1, size)\n",
    "exp_data(x, size, lam)"
   ],
   "metadata": {
    "collapsed": false,
    "pycharm": {
     "name": "#%%\n",
     "is_executing": false
    }
   }
  },
  {
   "cell_type": "code",
   "execution_count": 5,
   "outputs": [
    {
     "name": "stdout",
     "text": [
      " *** REAL(lamda) = 0.20 \n *** MLE(lamda) = 0.11 \n *** MAP(lamda) = 0.21 \n"
     ],
     "output_type": "stream"
    }
   ],
   "source": [
    "print(\" *** REAL(lamda) = %.2f \" % lam)\n",
    "mle_lam = mle(size, np.sum(x))\n",
    "print(\" *** MLE(lamda) = %.2f \" % mle_lam)\n",
    "map_lam = map(size, lam)\n",
    "print(\" *** MAP(lamda) = %.2f \" % map_lam)"
   ],
   "metadata": {
    "collapsed": false,
    "pycharm": {
     "name": "#%% MLE Estimation\n",
     "is_executing": false
    }
   }
  }
 ],
 "metadata": {
  "kernelspec": {
   "display_name": "Python 3",
   "language": "python",
   "name": "python3"
  },
  "language_info": {
   "codemirror_mode": {
    "name": "ipython",
    "version": 2
   },
   "file_extension": ".py",
   "mimetype": "text/x-python",
   "name": "python",
   "nbconvert_exporter": "python",
   "pygments_lexer": "ipython2",
   "version": "2.7.6"
  },
  "pycharm": {
   "stem_cell": {
    "cell_type": "raw",
    "source": [
     "\n"
    ],
    "metadata": {
     "collapsed": false
    }
   }
  }
 },
 "nbformat": 4,
 "nbformat_minor": 0
}