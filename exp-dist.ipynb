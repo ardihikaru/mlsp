{
 "cells": [
  {
   "cell_type": "code",
   "execution_count": 21,
   "outputs": [],
   "source": [
    "import matplotlib.pyplot as plt\n",
    "from math import exp\n",
    "from scipy.stats import norm\n",
    "import numpy as np"
   ],
   "metadata": {
    "collapsed": false,
    "pycharm": {
     "name": "#%% \n",
     "is_executing": false
    }
   }
  },
  {
   "cell_type": "code",
   "execution_count": 39,
   "outputs": [],
   "source": [
    "def mle(n, est_x):\n",
    "    return n/est_x\n",
    "\n",
    "def map(n, lam):\n",
    "    return (n/(n-1)) * lam"
   ],
   "metadata": {
    "collapsed": false,
    "pycharm": {
     "name": "#%%\n",
     "is_executing": false
    }
   }
  },
  {
   "cell_type": "code",
   "execution_count": 64,
   "outputs": [],
   "source": [
    "def exp_data(x, size=20, lam=0.2):\n",
    "    Y = [lam*exp(-lam*_) for _ in x]\n",
    "    error = norm.rvs(0, scale=0.05, size=size)\n",
    "    simulated_data = [max(0, y+e) for (y, e) in zip(Y[:size], error)]\n",
    "\n",
    "    plt.plot(x, Y, 'b-')\n",
    "    plt.plot(x[:size], simulated_data, 'r.')\n",
    "    plt.show()\n"
   ],
   "metadata": {
    "collapsed": false,
    "pycharm": {
     "name": "#%%\n",
     "is_executing": false
    }
   }
  },
  {
   "cell_type": "code",
   "execution_count": 67,
   "outputs": [
    {
     "data": {
      "text/plain": "<Figure size 432x288 with 1 Axes>",
      "image/png": "[encoded data removed]"
     },
     "metadata": {
      "needs_background": "light"
     },
     "output_type": "display_data"
    }
   ],
   "source": [
    "size = 20\n",
    "lam = 0.2\n",
    "x = range(1, size)\n",
    "exp_data(x, size, lam)"
   ],
   "metadata": {
    "collapsed": false,
    "pycharm": {
     "name": "#%%\n",
     "is_executing": false
    }
   }
  },
  {
   "cell_type": "code",
   "execution_count": 68,
   "outputs": [
    {
     "name": "stdout",
     "text": [
      " *** REAL(lamda) = 0.20 \n *** MLE(lamda) = 0.11 \n *** MAP(lamda) = 0.21 \n"
     ],
     "output_type": "stream"
    }
   ],
   "source": [
    "print(\" *** REAL(lamda) = %.2f \" % lam)\n",
    "mle_lam = mle(size, np.sum(x))\n",
    "print(\" *** MLE(lamda) = %.2f \" % mle_lam)\n",
    "map_lam = map(size, lam)\n",
    "print(\" *** MAP(lamda) = %.2f \" % map_lam)"
   ],
   "metadata": {
    "collapsed": false,
    "pycharm": {
     "name": "#%% MLE Estimation\n",
     "is_executing": false
    }
   }
  }
 ],
 "metadata": {
  "kernelspec": {
   "display_name": "Python 3",
   "language": "python",
   "name": "python3"
  },
  "language_info": {
   "codemirror_mode": {
    "name": "ipython",
    "version": 2
   },
   "file_extension": ".py",
   "mimetype": "text/x-python",
   "name": "python",
   "nbconvert_exporter": "python",
   "pygments_lexer": "ipython2",
   "version": "2.7.6"
  },
  "pycharm": {
   "stem_cell": {
    "cell_type": "raw",
    "source": [
     "\n"
    ],
    "metadata": {
     "collapsed": false
    }
   }
  }
 },
 "nbformat": 4,
 "nbformat_minor": 0
}