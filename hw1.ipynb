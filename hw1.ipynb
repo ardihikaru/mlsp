{
 "cells": [
  {
   "cell_type": "code",
   "execution_count": 41,
   "outputs": [],
   "source": [
    "import matplotlib.pyplot as plt\n",
    "import numpy as np\n",
    "import seaborn as sns\n",
    "sns.set()\n"
   ],
   "metadata": {
    "collapsed": false,
    "pycharm": {
     "name": "#%% #0: Import mandatory libraries\n",
     "is_executing": false
    }
   }
  },
  {
   "cell_type": "code",
   "execution_count": 2,
   "outputs": [],
   "source": [
    "# from libs.distributions.exp_dist import ExpDist\n",
    "from libs.estimators.mle_estimator import MLE\n",
    "# from libs.estimators.mse import MSE\n"
   ],
   "metadata": {
    "collapsed": false,
    "pycharm": {
     "name": "#%% #1: Import custom libraries\n",
     "is_executing": false
    }
   }
  },
  {
   "cell_type": "code",
   "execution_count": 4,
   "outputs": [],
   "source": [
    "# expo_opt = {\n",
    "input_variables = {\n",
    "    # Input for generating exponential distribution\n",
    "    \"size\": 20, # total number of data\n",
    "    \"lam\": 0.2, # lambda value\n",
    "    \"st_range\": 1 # start of range data\n",
    "}\n",
    "# expo = ExpDist(**expo_opt)\n"
   ],
   "metadata": {
    "collapsed": false,
    "pycharm": {
     "name": "#%% #2: Generates dataset\n",
     "is_executing": false
    }
   }
  },
  {
   "cell_type": "code",
   "execution_count": 5,
   "outputs": [],
   "source": [
    "# mle = MLE(expo.get_lambda(), expo.get_dataset())\n",
    "# mle = MLE(expo.get_lambda())\n",
    "mle = MLE(**input_variables)\n",
    "# mle.run()\n",
    "# x = expo.get_dataset()\n",
    "# lam = expo.get_lambda()\n",
    "# print(\" x = \", expo.get_dataset())\n",
    "# # print(\" y = \", mle.get_y())\n",
    "# print(\" yhat = \", mle.get_yhat())\n",
    "# print(\" MSE = \", mle.get_mse())\n"
   ],
   "metadata": {
    "collapsed": false,
    "pycharm": {
     "name": "#%% #3: Calculate y and yhat by using MLE and MAP estimators\n",
     "is_executing": false
    }
   }
  },
  {
   "cell_type": "code",
   "execution_count": 44,
   "outputs": [
    {
     "name": "stdout",
     "text": [
      " ** total x =  30\n *** X =  [ 1  2  3  4  5  6  7  8  9 10 11 12 13 14 15 16 17 18 19 20 21 22 23 24\n 25 26 27 28 29 30]\n yhat data =  [0.       0.260194 0.260194 0.260194 0.260194 0.260194 0.260194 0.260194\n 0.260194 0.260194 0.260194 0.260194 0.260194 0.260194 0.260194 0.260194\n 0.260194 0.260194 0.260194 0.260194 0.260194 0.260194 0.260194 0.260194\n 0.260194 0.260194 0.260194 0.260194 0.260194 0.260194 0.260194 0.260194\n 0.260194 0.260194 0.260194 0.260194 0.260194 0.260194 0.260194 0.260194\n 0.260194 0.260194 0.260194 0.260194 0.260194 0.260194 0.260194 0.260194\n 0.260194 0.260194]\n"
     ],
     "output_type": "stream"
    }
   ],
   "source": [
    "max_loop = 50\n",
    "max_alpha = 30\n",
    "x = np.linspace(1, max_alpha, max_alpha, dtype=int)\n",
    "# print(\" ** total x = \", len(x))\n",
    "# print(\" *** X = \", x)\n",
    "# y_data = np.empty(shape=[max_loop])\n",
    "# yhat_data = np.empty(shape=[max_loop])\n",
    "# y_data = np.array(max_loop)\n",
    "# yhat_data = np.array(max_loop)\n",
    "# expo = ExpDist(**expo_opt)\n",
    "for alp in range(1, max_loop):\n",
    "    mle.multiple_run(max_loop)\n",
    "    mle_y = mle.get_array_yhat()\n",
    "    \n",
    "    # expo.regenerate_dataset()\n",
    "    # # mle = MLE(expo.get_lambda(), expo.get_dataset())\n",
    "    # mle = MLE(expo.get_dataset())\n",
    "    # mle.run()\n",
    "    # # y_data[i] = mle.get_y()\n",
    "    # yhat_data[i] = mle.get_yhat()\n",
    "\n",
    "# print(\" y data = \", y_data)\n",
    "# print(\" yhat data = \", mle.get_array_yhat())"
   ],
   "metadata": {
    "collapsed": false,
    "pycharm": {
     "name": "#%% #4: Do looping in 50 times, then, calculate the MSE\n",
     "is_executing": false
    }
   }
  },
  {
   "cell_type": "code",
   "execution_count": 45,
   "outputs": [
    {
     "name": "stdout",
     "text": [
      " ** total y =  30\n *** y =  [[ 1.76405235  0.40015721]\n [ 2.74279033  2.64105041]\n [ 4.61034832  1.66377253]\n [ 5.56043674  1.51241532]\n [ 5.45721789  1.92301382]\n [ 5.60126146  3.37728733]\n [ 6.36229918  3.49896234]\n [ 6.80616242  3.83263667]\n [ 8.30024149  3.62747841]\n [ 8.61330919  2.77338267]\n [ 6.06031937  3.42700126]\n [ 6.92475557  2.68483624]\n [ 9.1945102   1.23047057]\n [ 9.24026871  1.04328672]\n [10.77304793  2.51264549]\n [10.92799535  2.89080801]\n [10.04020961  0.91001154]\n [ 9.69229746  1.06636051]\n [10.92258814  2.26874036]\n [10.53526132  1.96643761]\n [ 9.48670836  0.54641967]\n [ 7.78043816  2.49719507]\n [ 7.27078598  2.05912076]\n [ 6.01799062  2.83661112]\n [ 4.40409278  2.62387084]\n [ 3.50862621  3.01077334]\n [ 2.99782108  1.83014115]\n [ 2.96963885  2.25847302]\n [ 3.03615607  2.56094492]\n [ 2.40183398  2.19820376]]\n"
     ],
     "output_type": "stream"
    },
    {
     "data": {
      "text/plain": "<Figure size 432x288 with 1 Axes>",
      "image/png": "[encoded data removed]"
     },
     "metadata": {},
     "output_type": "display_data"
    }
   ],
   "source": [
    "\n",
    "# Create some data\n",
    "rng = np.random.RandomState(0)\n",
    "\n",
    "y = np.cumsum(rng.randn(30, 2), 0)\n",
    "print(\" ** total y = \", len(y))\n",
    "print(\" *** y = \", y)\n",
    "\n",
    "# same plotting code as above!\n",
    "plt.plot(x, y)\n",
    "plt.title(\"MSE between MLE and MAP with alpha = 1~30\")\n",
    "labels = ['MSE', 'MAP']\n",
    "plt.legend(labels, ncol=2, loc='upper right');\n",
    "\n",
    "# sns.set_style(\"darkgrid\")\n",
    "# data = np.random.randn(20,1)\n",
    "# print(data)\n",
    "# consumdata = np.cumsum(data)\n",
    "# consumdata = np.cumsum(mle.get_array_yhat())\n",
    "# print()\n",
    "# print(consumdata)\n",
    "# plt.plot(consumdata)\n",
    "# plt.show()\n",
    "# x = [lam*exp(-lam*_) for _ in x]"
   ],
   "metadata": {
    "collapsed": false,
    "pycharm": {
     "name": "#%%\n",
     "is_executing": false
    }
   }
  },
  {
   "cell_type": "code",
   "execution_count": 9,
   "outputs": [],
   "source": [
    "# expo.get_dataset()\n",
    "# len(expo.get_dataset())\n"
   ],
   "metadata": {
    "collapsed": false,
    "pycharm": {
     "name": "#%%\n",
     "is_executing": false
    }
   }
  },
  {
   "cell_type": "code",
   "execution_count": 10,
   "outputs": [],
   "source": [
    "# expo.plot_dataset()\n"
   ],
   "metadata": {
    "collapsed": false,
    "pycharm": {
     "name": "#%% \n",
     "is_executing": false
    }
   }
  }
 ],
 "metadata": {
  "language_info": {
   "codemirror_mode": {
    "name": "ipython",
    "version": 2
   },
   "file_extension": ".py",
   "mimetype": "text/x-python",
   "name": "python",
   "nbconvert_exporter": "python",
   "pygments_lexer": "ipython2",
   "version": "2.7.6"
  },
  "kernelspec": {
   "name": "python3",
   "language": "python",
   "display_name": "Python 3"
  },
  "pycharm": {
   "stem_cell": {
    "cell_type": "raw",
    "source": [],
    "metadata": {
     "collapsed": false
    }
   }
  }
 },
 "nbformat": 4,
 "nbformat_minor": 0
}