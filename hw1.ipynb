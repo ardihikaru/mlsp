{
 "cells": [
  {
   "cell_type": "code",
   "execution_count": 9,
   "outputs": [],
   "source": [
    "import numpy as np\n"
   ],
   "metadata": {
    "collapsed": false,
    "pycharm": {
     "name": "#%% #0: Import mandatory libraries\n",
     "is_executing": false
    }
   }
  },
  {
   "cell_type": "code",
   "execution_count": 10,
   "outputs": [],
   "source": [
    "from libs.distributions.exp_dist import ExpDist\n",
    "from libs.estimators.mle_estimator import MLE\n",
    "# from libs.estimators.mse import MSE\n"
   ],
   "metadata": {
    "collapsed": false,
    "pycharm": {
     "name": "#%% #1: Import custom libraries\n",
     "is_executing": false
    }
   }
  },
  {
   "cell_type": "code",
   "execution_count": 11,
   "outputs": [],
   "source": [
    "expo_opt = {\n",
    "    \"size\": 20, # total number of data\n",
    "    \"lam\": 0.2, # lambda value\n",
    "    \"st_range\": 1 # start of range data\n",
    "}\n",
    "expo = ExpDist(**expo_opt)\n"
   ],
   "metadata": {
    "collapsed": false,
    "pycharm": {
     "name": "#%% #2: Generates dataset\n",
     "is_executing": false
    }
   }
  },
  {
   "cell_type": "code",
   "execution_count": 12,
   "outputs": [
    {
     "name": "stdout",
     "text": [
      " x =  [5.27315976 0.36244552 3.76800213 6.77612805 1.13522784 8.48529816\n 0.69441034 2.02578663 2.35255571 3.45275198 1.43650681 0.7528653\n 1.00980837 5.7628127  6.99895845 0.61580222 2.33522066 6.50565705\n 4.13932513 2.5438608 ]\n y =  0.2\n yhat =  0.30108427850414754\n"
     ],
     "output_type": "stream"
    }
   ],
   "source": [
    "mle = MLE(expo.get_lambda(), expo.get_dataset())\n",
    "mle.run()\n",
    "# x = expo.get_dataset()\n",
    "# lam = expo.get_lambda()\n",
    "print(\" x = \", expo.get_dataset())\n",
    "print(\" y = \", mle.get_y())\n",
    "print(\" yhat = \", mle.get_yhat())\n",
    "# print(\" MSE = \", mle.get_mse())\n"
   ],
   "metadata": {
    "collapsed": false,
    "pycharm": {
     "name": "#%% #3: Calculate y and yhat by using MLE and MAP estimators\n",
     "is_executing": false
    }
   }
  },
  {
   "cell_type": "code",
   "execution_count": 16,
   "outputs": [
    {
     "name": "stdout",
     "text": [
      " y data =  [0.2 0.2 0.2 0.2 0.2 0.2 0.2 0.2 0.2 0.2 0.2 0.2 0.2 0.2 0.2 0.2 0.2 0.2\n 0.2 0.2 0.2 0.2 0.2 0.2 0.2 0.2 0.2 0.2 0.2 0.2 0.2 0.2 0.2 0.2 0.2 0.2\n 0.2 0.2 0.2 0.2 0.2 0.2 0.2 0.2 0.2 0.2 0.2 0.2 0.2 0.2]\n yhat data =  [0.24348967 0.17717366 0.18664624 0.33650897 0.28116396 0.18151033\n 0.16065581 0.23962443 0.16402324 0.16917541 0.32667184 0.16843205\n 0.18565511 0.20117463 0.23253018 0.16385457 0.17815138 0.20816242\n 0.18092527 0.21765812 0.1943588  0.23038055 0.14400656 0.27702972\n 0.25108271 0.17488341 0.217172   0.21697904 0.14830351 0.18778948\n 0.16887195 0.19203493 0.21067434 0.20462432 0.21105534 0.26237821\n 0.26909647 0.19202968 0.16880314 0.38156428 0.16928171 0.33883903\n 0.21664131 0.16294498 0.18289439 0.19382604 0.17147411 0.1635393\n 0.22050489 0.24040756]\n"
     ],
     "output_type": "stream"
    }
   ],
   "source": [
    "max_loop = 50\n",
    "y_data = np.empty(shape=[max_loop])\n",
    "yhat_data = np.empty(shape=[max_loop])\n",
    "# y_data = np.array(max_loop)\n",
    "# yhat_data = np.array(max_loop)\n",
    "expo = ExpDist(**expo_opt)\n",
    "for i in range(0, max_loop):\n",
    "    expo.regenerate_dataset()\n",
    "    mle = MLE(expo.get_lambda(), expo.get_dataset())\n",
    "    mle.run()\n",
    "    y_data[i] = mle.get_y()\n",
    "    yhat_data[i] = mle.get_yhat()\n",
    "\n",
    "print(\" y data = \", y_data)\n",
    "print(\" yhat data = \", yhat_data)\n"
   ],
   "metadata": {
    "collapsed": false,
    "pycharm": {
     "name": "#%% #4: Do looping in 50 times, then, calculate the MSE\n",
     "is_executing": false
    }
   }
  },
  {
   "cell_type": "code",
   "execution_count": 11,
   "outputs": [
    {
     "data": {
      "text/plain": "20"
     },
     "metadata": {},
     "output_type": "execute_result",
     "execution_count": 11
    }
   ],
   "source": [
    "# expo.get_dataset()\n",
    "# len(expo.get_dataset())\n"
   ],
   "metadata": {
    "collapsed": false,
    "pycharm": {
     "name": "#%%\n",
     "is_executing": false
    }
   }
  },
  {
   "cell_type": "code",
   "execution_count": 9,
   "outputs": [
    {
     "data": {
      "text/plain": "<Figure size 432x288 with 1 Axes>",
      "image/png": "[encoded data removed]"
     },
     "metadata": {
      "needs_background": "light"
     },
     "output_type": "display_data"
    }
   ],
   "source": [
    "# expo.plot_dataset()\n"
   ],
   "metadata": {
    "collapsed": false,
    "pycharm": {
     "name": "#%% \n",
     "is_executing": false
    }
   }
  }
 ],
 "metadata": {
  "language_info": {
   "codemirror_mode": {
    "name": "ipython",
    "version": 2
   },
   "file_extension": ".py",
   "mimetype": "text/x-python",
   "name": "python",
   "nbconvert_exporter": "python",
   "pygments_lexer": "ipython2",
   "version": "2.7.6"
  },
  "kernelspec": {
   "name": "python3",
   "language": "python",
   "display_name": "Python 3"
  },
  "pycharm": {
   "stem_cell": {
    "cell_type": "raw",
    "source": [],
    "metadata": {
     "collapsed": false
    }
   }
  }
 },
 "nbformat": 4,
 "nbformat_minor": 0
}