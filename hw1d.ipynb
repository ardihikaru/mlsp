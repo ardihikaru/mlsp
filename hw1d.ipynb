{
 "cells": [
  {
   "cell_type": "code",
   "execution_count": 1,
   "outputs": [],
   "source": [
    "import matplotlib.pyplot as plt\n",
    "import numpy as np\n",
    "import seaborn as sns\n",
    "sns.set()\n"
   ],
   "metadata": {
    "collapsed": false,
    "pycharm": {
     "name": "#%% #0: Import mandatory libraries\n",
     "is_executing": false
    }
   }
  },
  {
   "cell_type": "code",
   "execution_count": 2,
   "outputs": [],
   "source": [
    "# from libs.distributions.exp_dist import ExpDist\n",
    "from libs.estimators.mle_estimator import MLE\n",
    "from libs.estimators.map_estimator import MAP\n",
    "from libs.estimators.mse_estimator import MSE"
   ],
   "metadata": {
    "collapsed": false,
    "pycharm": {
     "name": "#%% #1: Import custom libraries\n",
     "is_executing": false
    }
   }
  },
  {
   "cell_type": "code",
   "execution_count": 3,
   "outputs": [],
   "source": [
    "input_variables = {\n",
    "    # Input for generating exponential distribution\n",
    "    \"size\": 1000, # total number of data\n",
    "    \"lam\": 0.2, # lambda value\n",
    "    \"st_range\": 1, # start of range data\n",
    "    \"loc\": 0,\n",
    "    \"alpha\": 30,\n",
    "    \"beta\": 100\n",
    "    # \"beta\": 20,\n",
    "    # \"beta\": 20,\n",
    "}"
   ],
   "metadata": {
    "collapsed": false,
    "pycharm": {
     "name": "#%% #2: Generates dataset\n",
     "is_executing": false
    }
   }
  },
  {
   "cell_type": "code",
   "execution_count": 5,
   "outputs": [
    {
     "name": "stdout",
     "text": [
      " ***** x =  100 [  10   20   30   40   50   60   70   80   90  100  110  120  130  140\n  150  160  170  180  190  200  210  220  230  240  250  260  270  280\n  290  300  310  320  330  340  350  360  370  380  390  400  410  420\n  430  440  450  460  470  480  490  500  510  520  530  540  550  560\n  570  580  590  600  610  620  630  640  650  660  670  680  690  700\n  710  720  730  740  750  760  770  780  790  800  810  820  830  840\n  850  860  870  880  890  900  910  920  930  940  950  960  970  980\n  990 1000]\n ***** y =  100 [[0.21643467 0.3785572 ]\n [0.20257948 0.46226487]\n [0.21247824 0.54127438]\n [0.20670063 0.61606598]\n [0.19877516 0.68712625]\n [0.20361343 0.75474968]\n [0.19751109 0.81825824]\n [0.19912052 0.87859171]\n [0.20444302 0.93669686]\n [0.20179296 0.9924668 ]\n [0.20065255 1.04522113]\n [0.19826356 1.09557127]\n [0.2021952  1.14361411]\n [0.19885106 1.189676  ]\n [0.2040433  1.23559855]\n [0.20051063 1.27677355]\n [0.20416601 1.31770925]\n [0.19862835 1.35703852]\n [0.19976383 1.39307654]\n [0.20154818 1.43146676]\n [0.20161102 1.46671977]\n [0.19789934 1.50138516]\n [0.1978387  1.53195188]\n [0.20062795 1.56452048]\n [0.20298826 1.5951122 ]\n [0.20211947 1.62308597]\n [0.20031586 1.6530409 ]\n [0.20198349 1.67903822]\n [0.20519297 1.70476242]\n [0.20189132 1.73077961]\n [0.20194043 1.75582347]\n [0.20301872 1.78038477]\n [0.20026377 1.80326909]\n [0.19939734 1.82373211]\n [0.20131447 1.84651129]\n [0.19999377 1.86890674]\n [0.20048898 1.89076052]\n [0.20292616 1.9107639 ]\n [0.19840821 1.92832413]\n [0.19924596 1.95013718]\n [0.2025242  1.96938712]\n [0.19993868 1.9854666 ]\n [0.20141944 2.0023307 ]\n [0.19911573 2.02235164]\n [0.20076296 2.03863452]\n [0.20292341 2.05451899]\n [0.1995181  2.07058166]\n [0.20272374 2.08178991]\n [0.19871134 2.10119197]\n [0.20081306 2.11520513]\n [0.20088654 2.1299494 ]\n [0.19982235 2.14598189]\n [0.20263892 2.1592652 ]\n [0.19775745 2.17015826]\n [0.20241788 2.18468497]\n [0.20000304 2.19705777]\n [0.20100821 2.209908  ]\n [0.20187487 2.22400231]\n [0.2005423  2.23365795]\n [0.19985736 2.24505355]\n [0.20134062 2.25515358]\n [0.20107797 2.26855927]\n [0.19884496 2.28154349]\n [0.20052399 2.29080742]\n [0.20054938 2.30124953]\n [0.20056157 2.30846627]\n [0.19923154 2.32058665]\n [0.199763   2.33012824]\n [0.20362987 2.34086857]\n [0.20121979 2.3489485 ]\n [0.19982559 2.35843714]\n [0.20069767 2.37121342]\n [0.20145133 2.37787405]\n [0.20002508 2.38681232]\n [0.20146636 2.39896509]\n [0.20075301 2.40448166]\n [0.20024287 2.41440629]\n [0.2003222  2.42570498]\n [0.20011748 2.4291803 ]\n [0.2000395  2.43690903]\n [0.19903831 2.44692358]\n [0.19974337 2.45422455]\n [0.20050797 2.4627166 ]\n [0.19973955 2.46777817]\n [0.19895175 2.475363  ]\n [0.20098966 2.48372309]\n [0.20119583 2.49063343]\n [0.20014383 2.49944536]\n [0.20068138 2.50369004]\n [0.2013549  2.509137  ]\n [0.20084637 2.51620704]\n [0.1998509  2.5231055 ]\n [0.19996196 2.52807031]\n [0.19987738 2.53757556]\n [0.19987906 2.54211217]\n [0.20025444 2.55011753]\n [0.20023434 2.55635901]\n [0.20006348 2.55822167]\n [0.19872035 2.56813886]\n [0.19964288 2.57080573]]\n"
     ],
     "output_type": "stream"
    },
    {
     "data": {
      "text/plain": "<Figure size 432x288 with 1 Axes>",
      "image/png": "[encoded data removed]"
     },
     "metadata": {
      "needs_background": "light"
     },
     "output_type": "display_data"
    }
   ],
   "source": [
    "# mle_est = MLE(**input_variables)\n",
    "# map_est = MAP(**input_variables)\n",
    "max_loop = 50\n",
    "max_alpha = 30\n",
    "max_n = 1000\n",
    "n_stepsize = 10 # n start from 10, and increase every 10 ->> n = 10, 20, 30, ... 1000 \n",
    "# x = np.linspace(1, max_alpha, max_alpha, dtype=int)\n",
    "# y = np.empty(shape=[max_alpha, 0])\n",
    "x = []\n",
    "y = []\n",
    "# print(\" ***** y = \", len(y), y)\n",
    "for n in range(10, (max_n+n_stepsize), n_stepsize):\n",
    "    x.append(n)\n",
    "    input_variables[\"size\"] = n\n",
    "    mle_est = MLE(**input_variables)\n",
    "    map_est = MAP(**input_variables)\n",
    "\n",
    "    mle_est.multiple_run(max_loop)\n",
    "    mle_yhat = mle_est.get_array_yhat()\n",
    "    mean_mle = np.mean(mle_yhat)\n",
    "\n",
    "    map_est.multiple_run(max_loop, input_variables[\"alpha\"])\n",
    "    map_yhat = map_est.get_array_yhat()\n",
    "    mean_map = np.mean(map_yhat)\n",
    "\n",
    "    # print(\" THIS MLE = \", len(mle_yhat), mle_yhat)\n",
    "    # print(\" THIS MAP = \", len(map_yhat), map_yhat)\n",
    "\n",
    "    # print(\" >>> Mean MLE = \", mean_mle)\n",
    "    # print(\" >>> Mean MAP = \", mean_map)\n",
    "\n",
    "    y.append([mean_mle, mean_map])\n",
    "    \n",
    "x = np.array(x)\n",
    "y = np.array(y)\n",
    "print(\" ***** x = \", len(x), x)\n",
    "print(\" ***** y = \", len(y), y)\n",
    "\n",
    "plt.plot(x, y)\n",
    "plt.title(\"MSE between MLE and MAP with alpha = 1~30\")\n",
    "labels = ['MSE', 'MAP']\n",
    "plt.legend(labels, ncol=2, loc='upper right');"
   ],
   "metadata": {
    "collapsed": false,
    "pycharm": {
     "name": "#%% #3: Do looping in 50 times; alpha = 1~30; beta = 100; lambda = 0.2; n = 20\n",
     "is_executing": false
    }
   }
  },
  {
   "cell_type": "code",
   "execution_count": 5,
   "outputs": [],
   "source": [
    "# input_variables[\"size\"] = 1000 \n",
    "# input_variables[\"alpha\"] = 30 \n",
    "# mle_est = MLE(**input_variables)\n",
    "# map_est = MAP(**input_variables)\n",
    "# max_loop = 50\n",
    "# x = np.linspace(1, max_alpha, max_alpha, dtype=int)\n",
    "# y = []\n",
    "# \n",
    "# for alp in range(0, max_alpha):\n",
    "#     mle_est.multiple_run(max_loop)\n",
    "#     mle_yhat = mle_est.get_array_yhat()\n",
    "#     mean_mle = np.mean(mle_yhat)\n",
    "# \n",
    "#     map_est.multiple_run(max_loop, input_variables[\"alpha\"])\n",
    "#     map_yhat = map_est.get_array_yhat()\n",
    "#     mean_map = np.mean(map_yhat)\n",
    "# \n",
    "#     y.append([mean_mle, mean_map])\n",
    "# \n",
    "# plt.plot(x, y)\n",
    "# plt.title(\"MSE between MLE and MAP with alpha = 1~30\")\n",
    "# labels = ['MSE', 'MAP']\n",
    "# plt.legend(labels, ncol=2, loc='upper right');"
   ],
   "metadata": {
    "collapsed": false,
    "pycharm": {
     "name": "#%% #4: Do looping in 50 times; alpha = 1~30; beta = 100; lambda = 0.2; n=1000\n",
     "is_executing": false
    }
   }
  },
  {
   "cell_type": "code",
   "execution_count": 4,
   "outputs": [],
   "source": [
    "# Create some data\n",
    "# rng = np.random.RandomState(0)\n",
    "\n",
    "# y = np.cumsum(rng.randn(30, 2), 0)\n",
    "# print(\" ** total y = \", len(y))\n",
    "# print(\" *** y = \", y)\n",
    "# print(\" >>> y RAND = \", rng.randn(30, 2))\n",
    "\n",
    "# same plotting code as above!\n",
    "# y = np.array(y)\n",
    "\n",
    "# sns.set_style(\"darkgrid\")\n",
    "# data = np.random.randn(20,1)\n",
    "# print(data)\n",
    "# consumdata = np.cumsum(data)\n",
    "# consumdata = np.cumsum(mle.get_array_yhat())\n",
    "# print()\n",
    "# print(consumdata)\n",
    "# plt.plot(consumdata)\n",
    "# plt.show()\n",
    "# x = [lam*exp(-lam*_) for _ in x]"
   ],
   "metadata": {
    "collapsed": false,
    "pycharm": {
     "name": "#%%\n",
     "is_executing": false
    }
   }
  },
  {
   "cell_type": "code",
   "execution_count": 46,
   "outputs": [],
   "source": [
    "# expo.get_dataset()\n",
    "# len(expo.get_dataset())\n"
   ],
   "metadata": {
    "collapsed": false,
    "pycharm": {
     "name": "#%%\n",
     "is_executing": false
    }
   }
  },
  {
   "cell_type": "code",
   "execution_count": 10,
   "outputs": [],
   "source": [
    "# expo.plot_dataset()\n"
   ],
   "metadata": {
    "collapsed": false,
    "pycharm": {
     "name": "#%% \n",
     "is_executing": false
    }
   }
  }
 ],
 "metadata": {
  "language_info": {
   "codemirror_mode": {
    "name": "ipython",
    "version": 2
   },
   "file_extension": ".py",
   "mimetype": "text/x-python",
   "name": "python",
   "nbconvert_exporter": "python",
   "pygments_lexer": "ipython2",
   "version": "2.7.6"
  },
  "kernelspec": {
   "name": "python3",
   "language": "python",
   "display_name": "Python 3"
  },
  "pycharm": {
   "stem_cell": {
    "cell_type": "raw",
    "source": [],
    "metadata": {
     "collapsed": false
    }
   }
  }
 },
 "nbformat": 4,
 "nbformat_minor": 0
}