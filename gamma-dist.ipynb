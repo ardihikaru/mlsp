{
 "cells": [
  {
   "cell_type": "code",
   "execution_count": 9,
   "metadata": {
    "collapsed": true,
    "pycharm": {
     "is_executing": false
    }
   },
   "outputs": [
    {
     "name": "stdout",
     "text": [
      "[0.01274692 0.00889121 0.00686978 0.00367071 0.00424902 0.00265492\n 0.02186291 0.00282765 0.00932872 0.00290103 0.01095619 0.00311948\n 0.00735227 0.0030855  0.00097412 0.00825706 0.02543757 0.00526367\n 0.00394241 0.02212998]\n"
     ],
     "output_type": "stream"
    },
    {
     "data": {
      "text/plain": "[Text(0, 0.5, 'Frequency'), Text(0.5, 0, 'Gamma Distribution')]"
     },
     "metadata": {},
     "output_type": "execute_result",
     "execution_count": 9
    },
    {
     "data": {
      "text/plain": "<Figure size 432x288 with 1 Axes>",
      "image/png": "[encoded data removed]"
     },
     "metadata": {
      "needs_background": "light"
     },
     "output_type": "display_data"
    }
   ],
   "source": [
    "# Source: https://stackoverflow.com/questions/2896179/fitting-a-gamma-distribution-with-python-scipy\n",
    "import scipy.stats as stats    \n",
    "import seaborn as sns\n",
    "alpha = 1\n",
    "loc = 0\n",
    "beta = 100\n",
    "tetha = 1/beta\n",
    "size=20\n",
    "# data = stats.gamma.rvs(alpha, loc=loc, scale=beta, size=20)    \n",
    "data = stats.gamma.rvs(alpha, scale=tetha, size=size)    \n",
    "print(data)\n",
    "\n",
    "ax = sns.distplot(data,\n",
    "                  kde=True,\n",
    "                  bins=size,\n",
    "                  color='black',\n",
    "                  # color='skyblue',\n",
    "                  hist_kws={\"linewidth\": 15,'alpha':1})\n",
    "ax.set(xlabel='Gamma Distribution', ylabel='Frequency')"
   ]
  },
  {
   "cell_type": "code",
   "execution_count": 5,
   "outputs": [
    {
     "name": "stdout",
     "text": [
      "0.8269623378436445 0.0004149473713224779 0.008981847284735438\n1 0 100\n"
     ],
     "output_type": "stream"
    }
   ],
   "source": [
    "fit_alpha, fit_loc, fit_beta=stats.gamma.fit(data)\n",
    "print(fit_alpha, fit_loc, fit_beta)\n",
    "\n",
    "print(alpha, loc, beta)"
   ],
   "metadata": {
    "collapsed": false,
    "pycharm": {
     "name": "#%%\n",
     "is_executing": false
    }
   }
  }
 ],
 "metadata": {
  "kernelspec": {
   "display_name": "Python 3",
   "language": "python",
   "name": "python3"
  },
  "language_info": {
   "codemirror_mode": {
    "name": "ipython",
    "version": 2
   },
   "file_extension": ".py",
   "mimetype": "text/x-python",
   "name": "python",
   "nbconvert_exporter": "python",
   "pygments_lexer": "ipython2",
   "version": "2.7.6"
  },
  "pycharm": {
   "stem_cell": {
    "cell_type": "raw",
    "source": [],
    "metadata": {
     "collapsed": false
    }
   }
  }
 },
 "nbformat": 4,
 "nbformat_minor": 0
}