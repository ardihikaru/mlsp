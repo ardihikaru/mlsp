{
 "cells": [
  {
   "cell_type": "code",
   "execution_count": 4,
   "metadata": {
    "collapsed": true,
    "pycharm": {
     "is_executing": false
    }
   },
   "outputs": [
    {
     "name": "stdout",
     "text": [
      "[ 15.9299617   56.28377564 180.72685088 ...  71.35571788  72.30083728\n  52.18097898]\n"
     ],
     "output_type": "stream"
    }
   ],
   "source": [
    "# Source: https://stackoverflow.com/questions/2896179/fitting-a-gamma-distribution-with-python-scipy\n",
    "import scipy.stats as stats    \n",
    "alpha = 1\n",
    "loc = 0\n",
    "beta = 100\n",
    "data = stats.gamma.rvs(alpha, loc=loc, scale=beta, size=20)    \n",
    "print(data)"
   ]
  },
  {
   "cell_type": "code",
   "execution_count": 2,
   "outputs": [
    {
     "name": "stdout",
     "text": [
      "4.968660936018782 100.41455242787421 22.296009053389398\n5 100.5 22\n"
     ],
     "output_type": "stream"
    }
   ],
   "source": [
    "fit_alpha, fit_loc, fit_beta=stats.gamma.fit(data)\n",
    "print(fit_alpha, fit_loc, fit_beta)\n",
    "\n",
    "print(alpha, loc, beta)"
   ],
   "metadata": {
    "collapsed": false,
    "pycharm": {
     "name": "#%%\n",
     "is_executing": false
    }
   }
  }
 ],
 "metadata": {
  "kernelspec": {
   "display_name": "Python 3",
   "language": "python",
   "name": "python3"
  },
  "language_info": {
   "codemirror_mode": {
    "name": "ipython",
    "version": 2
   },
   "file_extension": ".py",
   "mimetype": "text/x-python",
   "name": "python",
   "nbconvert_exporter": "python",
   "pygments_lexer": "ipython2",
   "version": "2.7.6"
  },
  "pycharm": {
   "stem_cell": {
    "cell_type": "raw",
    "source": [],
    "metadata": {
     "collapsed": false
    }
   }
  }
 },
 "nbformat": 4,
 "nbformat_minor": 0
}