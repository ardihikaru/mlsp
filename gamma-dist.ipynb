{
 "cells": [
  {
   "cell_type": "code",
   "execution_count": 1,
   "metadata": {
    "collapsed": true,
    "pycharm": {
     "is_executing": false
    }
   },
   "outputs": [
    {
     "data": {
      "text/plain": "[Text(0, 0.5, 'Frequency'), Text(0.5, 0, 'Gamma Distribution')]"
     },
     "metadata": {},
     "output_type": "execute_result",
     "execution_count": 1
    }
   ],
   "source": [
    "# Source: https://stackoverflow.com/questions/2896179/fitting-a-gamma-distribution-with-python-scipy\n",
    "import scipy.stats as stats    \n",
    "import seaborn as sns\n",
    "alpha = 1\n",
    "loc = 0\n",
    "beta = 100\n",
    "tetha = 1/beta\n",
    "size=20\n",
    "# data = stats.gamma.rvs(alpha, loc=loc, scale=beta, size=20)    \n",
    "data = stats.gamma.rvs(alpha, scale=tetha, size=size)    \n",
    "# print(data)\n",
    "\n",
    "ax = sns.distplot(data,\n",
    "                  kde=True,\n",
    "                  bins=100,\n",
    "                  color='black',\n",
    "                  # color='skyblue',\n",
    "                  hist_kws={\"linewidth\": 15,'alpha':1})\n",
    "ax.set(xlabel='Gamma Distribution', ylabel='Frequency')"
   ]
  },
  {
   "cell_type": "code",
   "execution_count": 2,
   "outputs": [
    {
     "name": "stdout",
     "text": [
      "0.8592114822556871 0.001761407034559554 0.009159202750787677\n1 0 100\n"
     ],
     "output_type": "stream"
    }
   ],
   "source": [
    "fit_alpha, fit_loc, fit_beta=stats.gamma.fit(data)\n",
    "print(fit_alpha, fit_loc, fit_beta)\n",
    "\n",
    "print(alpha, loc, beta)"
   ],
   "metadata": {
    "collapsed": false,
    "pycharm": {
     "name": "#%%\n",
     "is_executing": false
    }
   }
  }
 ],
 "metadata": {
  "kernelspec": {
   "display_name": "Python 3",
   "language": "python",
   "name": "python3"
  },
  "language_info": {
   "codemirror_mode": {
    "name": "ipython",
    "version": 2
   },
   "file_extension": ".py",
   "mimetype": "text/x-python",
   "name": "python",
   "nbconvert_exporter": "python",
   "pygments_lexer": "ipython2",
   "version": "2.7.6"
  },
  "pycharm": {
   "stem_cell": {
    "cell_type": "raw",
    "source": [],
    "metadata": {
     "collapsed": false
    }
   }
  }
 },
 "nbformat": 4,
 "nbformat_minor": 0
}