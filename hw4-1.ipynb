{
 "cells": [
  {
   "cell_type": "code",
   "execution_count": 1,
   "outputs": [],
   "source": [
    "import numpy as np\n",
    "from matplotlib import pyplot as plt"
   ],
   "metadata": {
    "collapsed": false,
    "pycharm": {
     "name": "#%% # 0. Load dependency libraries\n",
     "is_executing": false
    }
   }
  },
  {
   "cell_type": "code",
   "execution_count": 2,
   "outputs": [],
   "source": [
    "from hw4 import show\n",
    "# from hw3.libs.algorithms.pca import PCA\n",
    "from hw4.libs.new_pca import PCA\n",
    "from hw4.libs.dataset import Dataset"
   ],
   "metadata": {
    "collapsed": false,
    "pycharm": {
     "name": "#%% # 1. Import custom libraries\n",
     "is_executing": false
    }
   }
  },
  {
   "cell_type": "code",
   "execution_count": 3,
   "outputs": [],
   "source": [
    "img_size = 28\n",
    "shapes = (img_size, img_size) \n",
    "# n_dataset = 982\n",
    "# npz_dataset = \"./hw4/digits-labels.npz\"\n"
   ],
   "metadata": {
    "collapsed": false,
    "pycharm": {
     "name": "#%% # 2. Setup the configuration ---- LEWATI ...\n",
     "is_executing": false
    }
   }
  },
  {
   "cell_type": "code",
   "execution_count": 4,
   "outputs": [],
   "source": [
    "# compressed = np.load(npz_dataset)\n",
    "# d = compressed['d'] # capture extracted features\n",
    "# l = compressed['l'] # captures the labels of corresponding d matrix\n",
    "# max_digit = len(d)\n",
    "# print(len(l))\n",
    "# print(type(int(l[0])))"
   ],
   "metadata": {
    "collapsed": false,
    "pycharm": {
     "name": "#%% coba jg\n",
     "is_executing": false
    }
   }
  },
  {
   "cell_type": "code",
   "execution_count": 5,
   "outputs": [],
   "source": [
    "# idx_5s = []\n",
    "# for i in range(0, max_digit):\n",
    "#     if int(l[i]) == 5:\n",
    "#         idx_5s.append(i)\n",
    "# print(idx_5s)\n",
    "# print(len(idx_5s))\n"
   ],
   "metadata": {
    "collapsed": false,
    "pycharm": {
     "name": "#%% Capture only digit 5 and store each index-i into variables \"idx_5s\"\n",
     "is_executing": false
    }
   }
  },
  {
   "cell_type": "code",
   "execution_count": 6,
   "outputs": [],
   "source": [
    "# fives = np.zeros(( (img_size**2), 72))\n",
    "# fives = np.zeros(( (img_size**2), len(idx_5s)))\n",
    "# for i in range(0, len(idx_5s)):\n",
    "#     fives[:, i] = d[:, idx_5s[i]]\n",
    "# print(len(fives))\n",
    "# print(len(fives[0]))\n"
   ],
   "metadata": {
    "collapsed": false,
    "pycharm": {
     "name": "#%% Store data of digit 5 into variable \"fives\"\n",
     "is_executing": false
    }
   }
  },
  {
   "cell_type": "code",
   "execution_count": 20,
   "outputs": [
    {
     "data": {
      "text/plain": "numpy.ndarray"
     },
     "metadata": {},
     "output_type": "execute_result",
     "execution_count": 20
    }
   ],
   "source": [
    "dataset = Dataset()\n",
    "fives = dataset.get_5s().T\n",
    "d = dataset.get_dataset().T\n",
    "type(fives)\n",
    "type(d)"
   ],
   "metadata": {
    "collapsed": false,
    "pycharm": {
     "name": "#%% MULAI DARI SINI SAJA !!!! ~~~~~~~~~~~~~~~~~~~~~~~`\n",
     "is_executing": false
    }
   }
  },
  {
   "cell_type": "code",
   "execution_count": 8,
   "outputs": [
    {
     "data": {
      "text/plain": "numpy.ndarray"
     },
     "metadata": {},
     "output_type": "execute_result",
     "execution_count": 8
    }
   ],
   "source": [
    "import glob\n",
    "import cv2\n",
    "\n",
    "images = []\n",
    "for path in glob.glob(\"./hw3/four_dataset/*.jpg\"):\n",
    "    images.append(cv2.cvtColor(cv2.imread(path), cv2.COLOR_BGR2GRAY))\n",
    "flat_images = np.array(images).reshape(982, -1)\n",
    "type(flat_images)"
   ],
   "metadata": {
    "collapsed": false,
    "pycharm": {
     "name": "#%% Coba pakai openCV\n",
     "is_executing": false
    }
   }
  },
  {
   "cell_type": "code",
   "execution_count": 9,
   "outputs": [],
   "source": [
    "# i = 2\n",
    "# # plt.imshow(np.reshape(fives[:, i],(28, 28),'F'))\n",
    "# plt.imshow(np.reshape(fives[:, i], shapes, 'F'))\n",
    "# plt.show()"
   ],
   "metadata": {
    "collapsed": false,
    "pycharm": {
     "name": "#%% try printing\n",
     "is_executing": false
    }
   }
  },
  {
   "cell_type": "code",
   "execution_count": 10,
   "outputs": [],
   "source": [
    "# i = 15\n",
    "# plt.imshow(np.reshape(d[:, i], (28, 28),'F'))\n",
    "# plt.show()"
   ],
   "metadata": {
    "collapsed": false,
    "pycharm": {
     "name": "#%% try printing\n",
     "is_executing": false
    }
   }
  },
  {
   "cell_type": "code",
   "execution_count": 11,
   "outputs": [],
   "source": [
    "# fig, numplt = plt.subplots(9, 8, subplot_kw=dict(xticks=[], yticks=[]))\n",
    "# for i, axis in enumerate(numplt.flat):\n",
    "#     axis.imshow(np.reshape(fives[:, i], (28, 28), 'F'))\n",
    "    # axis.imshow(fives[700*i].reshape(28, 28), cmap='gray_r')"
   ],
   "metadata": {
    "collapsed": false,
    "pycharm": {
     "name": "#%% \n",
     "is_executing": false
    }
   }
  },
  {
   "cell_type": "code",
   "execution_count": 12,
   "outputs": [],
   "source": [
    "# n_comp = 2\n",
    "# n_dataset = len(fives[0])\n",
    "# print(\" ** n_dataset = \", n_dataset)\n",
    "# pca = PCA(img_size=img_size, n_dataset=n_dataset, n_comp=n_comp, man_dataset=fives)\n",
    "# # pca = PCA(img_size, n_dataset, n_comp, man_dataset=fives)\n",
    "# # n_dataset = 982\n",
    "# # pca = PCA(img_size, n_dataset, n_comp)\n",
    "# pca.run(plot=False)"
   ],
   "metadata": {
    "collapsed": false,
    "pycharm": {
     "name": "#%% # 3.v1 Calculate PCA with single n_comp\n",
     "is_executing": false
    }
   }
  },
  {
   "cell_type": "code",
   "execution_count": 21,
   "outputs": [
    {
     "data": {
      "text/plain": "numpy.ndarray"
     },
     "metadata": {},
     "output_type": "execute_result",
     "execution_count": 21
    }
   ],
   "source": [
    "# Perform PCA transform\n",
    "n_comp = 2\n",
    "pca = PCA(fives, n_comp)\n",
    "pca_images, components = pca.run()\n",
    "type(pca_images)"
   ],
   "metadata": {
    "collapsed": false,
    "pycharm": {
     "name": "#%% PCA Lagi\n",
     "is_executing": false
    }
   }
  },
  {
   "cell_type": "code",
   "execution_count": 22,
   "outputs": [
    {
     "name": "stderr",
     "text": [
      "/home/ardihikaru/devel/nctu/mlsp/hw4/libs/new_pca.py:46: ComplexWarning: Casting complex values to real discards the imaginary part\n  reconstruct = np.dot(pca_img, components.T).astype(int)\n"
     ],
     "output_type": "stream"
    },
    {
     "data": {
      "text/plain": "numpy.ndarray"
     },
     "metadata": {},
     "output_type": "execute_result",
     "execution_count": 22
    }
   ],
   "source": [
    "# Reconstruct from PCA reduction\n",
    "reconstructed_img = pca.inverse_pca(pca_images, components)\n",
    "type(reconstructed_img)"
   ],
   "metadata": {
    "collapsed": false,
    "pycharm": {
     "name": "#%%\n",
     "is_executing": false
    }
   }
  },
  {
   "cell_type": "code",
   "execution_count": 24,
   "outputs": [
    {
     "name": "stdout",
     "text": [
      "(72, 2)\n(72, 28, 28)\n(72, 784)\n"
     ],
     "output_type": "stream"
    }
   ],
   "source": [
    "print(pca_images.shape)\n",
    "print(reconstructed_img.shape)\n",
    "print(fives.shape)"
   ],
   "metadata": {
    "collapsed": false,
    "pycharm": {
     "name": "#%%\n",
     "is_executing": false
    }
   }
  },
  {
   "cell_type": "code",
   "execution_count": 25,
   "outputs": [
    {
     "name": "stdout",
     "text": [
      "Dimension 2, best MSE: 3559.839285714286, worst MSE: 13221.871173469388, MSE over all samples: 6599.57670776644\n"
     ],
     "output_type": "stream"
    }
   ],
   "source": [
    "# Compute MSE between original image and reconstructed image\n",
    "# mse = [pca.mean_square_error(a,b) for a,b in zip(images, reconstructed_img)]\n",
    "# print(\"Dimension {}, best MSE: {}, worst MSE: {}, MSE over all samples: {}\".format(n_comp, min(mse), max(mse), sum(mse)/len(mse)))\n",
    "        "
   ],
   "metadata": {
    "collapsed": false,
    "pycharm": {
     "name": "#%%\n",
     "is_executing": false
    }
   }
  },
  {
   "cell_type": "code",
   "execution_count": 16,
   "outputs": [],
   "source": [
    "# idx = 1\n",
    "# data = pca.get_original_data()\n",
    "# rec_data = pca.get_reconstructed_data()\n",
    "# type(rec_data)\n",
    "# rec_data_01 = rec_data[:, idx]\n",
    "# type(rec_data_01)\n",
    "# \n",
    "# ori_data_sp = data[:, idx].reshape(28, 28)\n",
    "# rec_data_sp = rec_data[:, idx].reshape(28, 28)\n",
    "# type(rec_data_sp)\n",
    "# \n",
    "# f, (ax1, ax2) = plt.subplots(1, 2)\n",
    "# f.suptitle('PCA comparison with #Dim = %s' % 2)\n",
    "# ax1.imshow(ori_data, cmap='gray', interpolation='none')\n",
    "# ax1.set_title('Original Image')\n",
    "# ax2.imshow(rec_data, cmap='gray', interpolation='none')\n",
    "# ax2.set_title('Compressed Image')\n",
    "# plt.show()"
   ],
   "metadata": {
    "collapsed": false,
    "pycharm": {
     "name": "#%%\n",
     "is_executing": false
    }
   }
  },
  {
   "cell_type": "code",
   "execution_count": 17,
   "outputs": [],
   "source": [
    "# proj = pca.get_reconstructed_data()\n",
    "# print(type(proj))\n",
    "# print(type(fives))"
   ],
   "metadata": {
    "collapsed": false,
    "pycharm": {
     "name": "#%% Get PCA result with feature reduction of n_comp\n",
     "is_executing": false
    }
   }
  },
  {
   "cell_type": "code",
   "execution_count": 18,
   "outputs": [],
   "source": [
    "# proj = proj.T\n",
    "# fives = fives.T\n",
    "# type(proj)\n",
    "# type(fives)"
   ],
   "metadata": {
    "collapsed": false,
    "pycharm": {
     "name": "#%% Transform data to fit the graph representation\n",
     "is_executing": false
    }
   }
  },
  {
   "cell_type": "code",
   "execution_count": 26,
   "outputs": [
    {
     "name": "stderr",
     "text": [
      "/home/ardihikaru/devel/nctu/mlsp/penv/lib/python3.6/site-packages/numpy/core/_asarray.py:138: ComplexWarning: Casting complex values to real discards the imaginary part\n  return array(a, dtype, copy=False, order=order, subok=True)\n/home/ardihikaru/devel/nctu/mlsp/penv/lib/python3.6/site-packages/matplotlib/text.py:1759: ComplexWarning: Casting complex values to real discards the imaginary part\n  x = float(self.convert_xunits(x))\n/home/ardihikaru/devel/nctu/mlsp/penv/lib/python3.6/site-packages/matplotlib/text.py:1761: ComplexWarning: Casting complex values to real discards the imaginary part\n  y = float(self.convert_yunits(y))\n"
     ],
     "output_type": "stream"
    },
    {
     "data": {
      "text/plain": "<Figure size 432x288 with 1 Axes>",
      "image/png": "[encoded data removed]"
     },
     "metadata": {
      "needs_background": "light"
     },
     "output_type": "display_data"
    }
   ],
   "source": [
    "from hw4.libs.projection import Projection\n",
    "my_plt = Projection()\n",
    "my_plt.proj_show(pca_images, fives)\n",
    "# my_plt.proj_show(proj, fives)\n",
    "\n",
    "\n",
    "\n"
   ],
   "metadata": {
    "collapsed": false,
    "pycharm": {
     "name": "#%% Project the result\n",
     "is_executing": false
    }
   }
  }
 ],
 "metadata": {
  "kernelspec": {
   "display_name": "Python 3",
   "language": "python",
   "name": "python3"
  },
  "language_info": {
   "codemirror_mode": {
    "name": "ipython",
    "version": 2
   },
   "file_extension": ".py",
   "mimetype": "text/x-python",
   "name": "python",
   "nbconvert_exporter": "python",
   "pygments_lexer": "ipython2",
   "version": "2.7.6"
  },
  "pycharm": {
   "stem_cell": {
    "cell_type": "raw",
    "source": [],
    "metadata": {
     "collapsed": false
    }
   }
  }
 },
 "nbformat": 4,
 "nbformat_minor": 0
}